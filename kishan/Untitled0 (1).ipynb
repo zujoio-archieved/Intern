{
 "cells": [
  {
   "cell_type": "code",
   "execution_count": 1,
   "metadata": {
    "colab": {},
    "colab_type": "code",
    "id": "RHzTbgw_buuC"
   },
   "outputs": [
    {
     "name": "stderr",
     "output_type": "stream",
     "text": [
      "Using TensorFlow backend.\n"
     ]
    }
   ],
   "source": [
    "%matplotlib inline\n",
    "import matplotlib.pyplot as plt\n",
    "import tensorflow as tf\n",
    "import numpy as np\n",
    "from sklearn.metrics import confusion_matrix\n",
    "from keras.datasets import mnist\n"
   ]
  },
  {
   "cell_type": "code",
   "execution_count": 2,
   "metadata": {
    "colab": {},
    "colab_type": "code",
    "id": "UW2lkVFPbvfl"
   },
   "outputs": [],
   "source": [
    "(x_trai, y_trai), (x_test, y_test) = mnist.load_data()\n"
   ]
  },
  {
   "cell_type": "code",
   "execution_count": 3,
   "metadata": {
    "colab": {},
    "colab_type": "code",
    "id": "QOfjV6CGb1HX"
   },
   "outputs": [],
   "source": [
    "y_trai=np.eye(10,dtype=float)[y_trai]\n",
    "y_test=np.eye(10,dtype=float)[y_test]\n",
    "x_trai=x_trai/255.0\n",
    "x_test=x_test/255.0"
   ]
  },
  {
   "cell_type": "code",
   "execution_count": 4,
   "metadata": {
    "colab": {
     "base_uri": "https://localhost:8080/",
     "height": 34
    },
    "colab_type": "code",
    "executionInfo": {
     "elapsed": 1074,
     "status": "ok",
     "timestamp": 1544975775979,
     "user": {
      "displayName": "Kishan Radadiya",
      "photoUrl": "https://lh4.googleusercontent.com/-7G0Zl3yqRnc/AAAAAAAAAAI/AAAAAAAAAGM/42ieKSC0Cj8/s64/photo.jpg",
      "userId": "13697761024944476430"
     },
     "user_tz": -330
    },
    "id": "BLCTfK4Rb4YO",
    "outputId": "18302d30-a55d-4b12-be1a-4a104e5cddcf"
   },
   "outputs": [
    {
     "data": {
      "text/plain": [
       "(60000, 10)"
      ]
     },
     "execution_count": 4,
     "metadata": {},
     "output_type": "execute_result"
    }
   ],
   "source": [
    "y_trai.shape\n"
   ]
  },
  {
   "cell_type": "code",
   "execution_count": 5,
   "metadata": {
    "colab": {},
    "colab_type": "code",
    "id": "0RJTNroib6z8"
   },
   "outputs": [],
   "source": [
    "from sklearn.model_selection import train_test_split\n",
    "\n",
    "x_train,x_val,y_train,y_val=train_test_split(x_trai,y_trai,test_size = 0.081,random_state=256)\n"
   ]
  },
  {
   "cell_type": "code",
   "execution_count": 6,
   "metadata": {
    "colab": {
     "base_uri": "https://localhost:8080/",
     "height": 34
    },
    "colab_type": "code",
    "executionInfo": {
     "elapsed": 638,
     "status": "ok",
     "timestamp": 1544975778224,
     "user": {
      "displayName": "Kishan Radadiya",
      "photoUrl": "https://lh4.googleusercontent.com/-7G0Zl3yqRnc/AAAAAAAAAAI/AAAAAAAAAGM/42ieKSC0Cj8/s64/photo.jpg",
      "userId": "13697761024944476430"
     },
     "user_tz": -330
    },
    "id": "br_qeZFZGcP8",
    "outputId": "81e9d00c-7281-472f-ef0f-e87111d40574"
   },
   "outputs": [
    {
     "data": {
      "text/plain": [
       "40"
      ]
     },
     "execution_count": 6,
     "metadata": {},
     "output_type": "execute_result"
    }
   ],
   "source": [
    "x_train.shape[0]%100"
   ]
  },
  {
   "cell_type": "code",
   "execution_count": 7,
   "metadata": {
    "colab": {
     "base_uri": "https://localhost:8080/",
     "height": 34
    },
    "colab_type": "code",
    "executionInfo": {
     "elapsed": 704,
     "status": "ok",
     "timestamp": 1544975779585,
     "user": {
      "displayName": "Kishan Radadiya",
      "photoUrl": "https://lh4.googleusercontent.com/-7G0Zl3yqRnc/AAAAAAAAAAI/AAAAAAAAAGM/42ieKSC0Cj8/s64/photo.jpg",
      "userId": "13697761024944476430"
     },
     "user_tz": -330
    },
    "id": "5w7uq3evb9NC",
    "outputId": "b8bc96ed-7ad1-4547-e82f-f2f9a664b355"
   },
   "outputs": [
    {
     "name": "stdout",
     "output_type": "stream",
     "text": [
      "NETWORK READY\n"
     ]
    }
   ],
   "source": [
    "# NETWORK TOPOLOGIES\n",
    "n_hidden_1 = 256 \n",
    "n_hidden_2 = 128 \n",
    "n_input    = 784 \n",
    "n_classes  = 10  \n",
    "\n",
    "# INPUTS AND OUTPUTS\n",
    "x = tf.placeholder(\"float\", [None, n_input])\n",
    "y = tf.placeholder(\"float\", [None, n_classes])\n",
    "    \n",
    "# NETWORK PARAMETERS\n",
    "stddev = 0.1\n",
    "weights = {\n",
    "    'h1': tf.Variable(tf.random_normal([n_input, n_hidden_1], stddev=stddev)),\n",
    "    'h2': tf.Variable(tf.random_normal([n_hidden_1, n_hidden_2], stddev=stddev)),\n",
    "    'out': tf.Variable(tf.random_normal([n_hidden_2, n_classes], stddev=stddev))\n",
    "}\n",
    "biases = {\n",
    "    'b1': tf.Variable(tf.random_normal([n_hidden_1])),\n",
    "    'b2': tf.Variable(tf.random_normal([n_hidden_2])),\n",
    "    'out': tf.Variable(tf.random_normal([n_classes]))\n",
    "}\n",
    "print (\"NETWORK READY\")"
   ]
  },
  {
   "cell_type": "code",
   "execution_count": 8,
   "metadata": {
    "colab": {},
    "colab_type": "code",
    "id": "7GorGT_agShU"
   },
   "outputs": [],
   "source": [
    "\n",
    "layer_1 = tf.nn.relu(tf.add(tf.matmul(x, weights['h1']), biases['b1'])) \n",
    "layer_2 = tf.nn.relu(tf.add(tf.matmul(layer_1, weights['h2']), biases['b2']))"
   ]
  },
  {
   "cell_type": "code",
   "execution_count": 9,
   "metadata": {
    "colab": {
     "base_uri": "https://localhost:8080/",
     "height": 34
    },
    "colab_type": "code",
    "executionInfo": {
     "elapsed": 971,
     "status": "ok",
     "timestamp": 1544975815357,
     "user": {
      "displayName": "Kishan Radadiya",
      "photoUrl": "https://lh4.googleusercontent.com/-7G0Zl3yqRnc/AAAAAAAAAAI/AAAAAAAAAGM/42ieKSC0Cj8/s64/photo.jpg",
      "userId": "13697761024944476430"
     },
     "user_tz": -330
    },
    "id": "7259DlD3gdTh",
    "outputId": "f01803f8-24a8-47f0-875a-b71e5bcd67f8"
   },
   "outputs": [
    {
     "name": "stdout",
     "output_type": "stream",
     "text": [
      "WARNING:tensorflow:From <ipython-input-9-fa12c44cf266>:5: softmax_cross_entropy_with_logits (from tensorflow.python.ops.nn_ops) is deprecated and will be removed in a future version.\n",
      "Instructions for updating:\n",
      "\n",
      "Future major versions of TensorFlow will allow gradients to flow\n",
      "into the labels input on backprop by default.\n",
      "\n",
      "See `tf.nn.softmax_cross_entropy_with_logits_v2`.\n",
      "\n",
      "WARNING:tensorflow:From /home/gauravkoradiya/Downloads/Enter/lib/python3.6/site-packages/tensorflow/python/util/tf_should_use.py:189: initialize_all_variables (from tensorflow.python.ops.variables) is deprecated and will be removed after 2017-03-02.\n",
      "Instructions for updating:\n",
      "Use `tf.global_variables_initializer` instead.\n",
      "FUNCTIONS READY\n"
     ]
    }
   ],
   "source": [
    "# PREDICTION\n",
    "pred = (tf.matmul(layer_2, weights['out']) + biases['out'])\n",
    "\n",
    "# LOSS AND OPTIMIZER\n",
    "cost = tf.reduce_mean(tf.nn.softmax_cross_entropy_with_logits(logits=pred, labels=y)) \n",
    "# optm = tf.train.GradientDescentOptimizer(learning_rate=0.001).minimize(cost) \n",
    "optm = tf.train.AdamOptimizer(learning_rate=0.001).minimize(cost) \n",
    "corr = tf.equal(tf.argmax(pred, 1), tf.argmax(y, 1))    \n",
    "accr = tf.reduce_mean(tf.cast(corr, \"float\"))\n",
    "\n",
    "# INITIALIZER\n",
    "init = tf.initialize_all_variables()\n",
    "print (\"FUNCTIONS READY\")"
   ]
  },
  {
   "cell_type": "code",
   "execution_count": 10,
   "metadata": {
    "colab": {},
    "colab_type": "code",
    "id": "lWbdNRHW2BRt"
   },
   "outputs": [],
   "source": [
    "n_b=0\n",
    "def next_batch(batch_size):\n",
    "    remove=batch_size\n",
    "    global n_b\n",
    "    n_b+=batch_size\n",
    "    if n_b>x_train.shape[0]:\n",
    "        remove=x_train.shape[0]%batch_size\n",
    "        n_b=x_train.shape[0]\n",
    "    \n",
    "    return x_train[n_b-remove:n_b],y_train[n_b-remove:n_b]\n",
    "  "
   ]
  },
  {
   "cell_type": "code",
   "execution_count": 11,
   "metadata": {
    "colab": {
     "base_uri": "https://localhost:8080/",
     "height": 1394
    },
    "colab_type": "code",
    "executionInfo": {
     "elapsed": 378430,
     "status": "ok",
     "timestamp": 1544976198523,
     "user": {
      "displayName": "Kishan Radadiya",
      "photoUrl": "https://lh4.googleusercontent.com/-7G0Zl3yqRnc/AAAAAAAAAAI/AAAAAAAAAGM/42ieKSC0Cj8/s64/photo.jpg",
      "userId": "13697761024944476430"
     },
     "user_tz": -330
    },
    "id": "g_l4awaYgpHF",
    "outputId": "f2b8eab3-a713-4568-99ca-f61be757c407"
   },
   "outputs": [
    {
     "name": "stdout",
     "output_type": "stream",
     "text": [
      "Time : 2 s \n",
      "Epoch: 000/020 cost: 0.294212509\n",
      "TRAIN ACCURACY: 0.930\n",
      "TEST ACCURACY: 0.953\n",
      "Time : 2 s \n",
      "Epoch: 001/020 cost: 0.104678341\n",
      "TRAIN ACCURACY: 0.960\n",
      "TEST ACCURACY: 0.963\n",
      "Time : 2 s \n",
      "Epoch: 002/020 cost: 0.065268614\n",
      "TRAIN ACCURACY: 0.960\n",
      "TEST ACCURACY: 0.967\n",
      "Time : 2 s \n",
      "Epoch: 003/020 cost: 0.042823482\n",
      "TRAIN ACCURACY: 0.990\n",
      "TEST ACCURACY: 0.970\n",
      "Time : 2 s \n",
      "Epoch: 004/020 cost: 0.028920290\n",
      "TRAIN ACCURACY: 0.990\n",
      "TEST ACCURACY: 0.972\n",
      "Time : 2 s \n",
      "Epoch: 005/020 cost: 0.019986022\n",
      "TRAIN ACCURACY: 1.000\n",
      "TEST ACCURACY: 0.974\n",
      "Time : 2 s \n",
      "Epoch: 006/020 cost: 0.014418530\n",
      "TRAIN ACCURACY: 1.000\n",
      "TEST ACCURACY: 0.975\n",
      "Time : 2 s \n",
      "Epoch: 007/020 cost: 0.009822622\n",
      "TRAIN ACCURACY: 1.000\n",
      "TEST ACCURACY: 0.976\n",
      "Time : 2 s \n",
      "Epoch: 008/020 cost: 0.007960221\n",
      "TRAIN ACCURACY: 1.000\n",
      "TEST ACCURACY: 0.974\n",
      "Time : 2 s \n",
      "Epoch: 009/020 cost: 0.006766480\n",
      "TRAIN ACCURACY: 1.000\n",
      "TEST ACCURACY: 0.975\n",
      "Time : 2 s \n",
      "Epoch: 010/020 cost: 0.006318867\n",
      "TRAIN ACCURACY: 1.000\n",
      "TEST ACCURACY: 0.977\n",
      "Time : 2 s \n",
      "Epoch: 011/020 cost: 0.004410070\n",
      "TRAIN ACCURACY: 1.000\n",
      "TEST ACCURACY: 0.974\n",
      "Time : 2 s \n",
      "Epoch: 012/020 cost: 0.003144374\n",
      "TRAIN ACCURACY: 1.000\n",
      "TEST ACCURACY: 0.980\n",
      "Time : 2 s \n",
      "Epoch: 013/020 cost: 0.002327275\n",
      "TRAIN ACCURACY: 1.000\n",
      "TEST ACCURACY: 0.974\n",
      "Time : 2 s \n",
      "Epoch: 014/020 cost: 0.003684388\n",
      "TRAIN ACCURACY: 1.000\n",
      "TEST ACCURACY: 0.975\n",
      "Time : 2 s \n",
      "Epoch: 015/020 cost: 0.003485010\n",
      "TRAIN ACCURACY: 1.000\n",
      "TEST ACCURACY: 0.978\n",
      "Time : 2 s \n",
      "Epoch: 016/020 cost: 0.002217207\n",
      "TRAIN ACCURACY: 1.000\n",
      "TEST ACCURACY: 0.977\n",
      "Time : 2 s \n",
      "Epoch: 017/020 cost: 0.001795875\n",
      "TRAIN ACCURACY: 1.000\n",
      "TEST ACCURACY: 0.975\n",
      "Time : 2 s \n",
      "Epoch: 018/020 cost: 0.002303572\n",
      "TRAIN ACCURACY: 1.000\n",
      "TEST ACCURACY: 0.977\n",
      "Time : 3 s \n",
      "Epoch: 019/020 cost: 0.001931589\n",
      "TRAIN ACCURACY: 1.000\n",
      "TEST ACCURACY: 0.977\n",
      "OPTIMIZATION FINISHED\n"
     ]
    }
   ],
   "source": [
    "import time\n",
    "# PARAMETERS\n",
    "training_epochs = 20\n",
    "batch_size      = 128\n",
    "display_step    = 1\n",
    "num_examples=y_train.shape[0]\n",
    "# LAUNCH THE GRAPH\n",
    "sess = tf.Session()\n",
    "sess.run(init)\n",
    "# OPTIMIZE\n",
    "\n",
    "for epoch in range(training_epochs):\n",
    "    start=time.time()\n",
    "    avg_cost = 0.\n",
    "    total_batch = int(num_examples/batch_size)\n",
    "    if num_examples%batch_size!=0:\n",
    "        total_batch+=1\n",
    "    n_b=0\n",
    "    # ITERATION\n",
    "    for i in range(total_batch):\n",
    "      \n",
    "        batch_xs, batch_ys = next_batch(batch_size)\n",
    "        batch_xs=[x.flatten() for x in batch_xs]\n",
    "        feeds = {x: batch_xs, y: batch_ys}\n",
    "        sess.run(optm, feed_dict=feeds)\n",
    "        avg_cost += sess.run(cost, feed_dict=feeds)\n",
    "    avg_cost = avg_cost / total_batch\n",
    "    # DISPLAY\n",
    "    end=time.time()\n",
    "    if (epoch+1) % display_step == 0:\n",
    "        print (\"Time : %d s \" % (int(end-start)))\n",
    "        \n",
    "        print (\"Epoch: %03d/%03d cost: %.9f\" % (epoch, training_epochs, avg_cost))\n",
    "        feeds = {x: batch_xs, y: batch_ys}\n",
    "        train_acc = sess.run(accr, feed_dict=feeds)\n",
    "        print (\"TRAIN ACCURACY: %.3f\" % (train_acc))\n",
    "        feeds = {x: [x.flatten() for x in x_val], y:y_val}\n",
    "        test_acc = sess.run(accr, feed_dict=feeds)\n",
    "        print (\"TEST ACCURACY: %.3f\" % (test_acc))\n",
    "print (\"OPTIMIZATION FINISHED\")"
   ]
  },
  {
   "cell_type": "code",
   "execution_count": 12,
   "metadata": {
    "colab": {},
    "colab_type": "code",
    "id": "AhzDbe6qhM--"
   },
   "outputs": [],
   "source": [
    "feeds = {x: [x.flatten() for x in x_train[[0,1]]]}\n",
    "qq=sess.run(layer_1, feed_dict=feeds)"
   ]
  },
  {
   "cell_type": "code",
   "execution_count": 13,
   "metadata": {
    "colab": {
     "base_uri": "https://localhost:8080/",
     "height": 34
    },
    "colab_type": "code",
    "executionInfo": {
     "elapsed": 641,
     "status": "ok",
     "timestamp": 1544976863217,
     "user": {
      "displayName": "Kishan Radadiya",
      "photoUrl": "https://lh4.googleusercontent.com/-7G0Zl3yqRnc/AAAAAAAAAAI/AAAAAAAAAGM/42ieKSC0Cj8/s64/photo.jpg",
      "userId": "13697761024944476430"
     },
     "user_tz": -330
    },
    "id": "oZn_T9hIwvR4",
    "outputId": "c3395dcb-8a57-4b72-e28c-96f59e13a480"
   },
   "outputs": [
    {
     "data": {
      "text/plain": [
       "(2, 256)"
      ]
     },
     "execution_count": 13,
     "metadata": {},
     "output_type": "execute_result"
    }
   ],
   "source": [
    "qq.shape"
   ]
  },
  {
   "cell_type": "code",
   "execution_count": 17,
   "metadata": {
    "colab": {
     "base_uri": "https://localhost:8080/",
     "height": 165
    },
    "colab_type": "code",
    "executionInfo": {
     "elapsed": 993,
     "status": "ok",
     "timestamp": 1544976864896,
     "user": {
      "displayName": "Kishan Radadiya",
      "photoUrl": "https://lh4.googleusercontent.com/-7G0Zl3yqRnc/AAAAAAAAAAI/AAAAAAAAAGM/42ieKSC0Cj8/s64/photo.jpg",
      "userId": "13697761024944476430"
     },
     "user_tz": -330
    },
    "id": "GFhcCOWEwwQZ",
    "outputId": "d284dc8e-2f6b-400f-9145-8726f24d6419"
   },
   "outputs": [
    {
     "data": {
      "text/plain": [
       "<matplotlib.image.AxesImage at 0x7f359598ae10>"
      ]
     },
     "execution_count": 17,
     "metadata": {},
     "output_type": "execute_result"
    },
    {
     "data": {
      "image/png": "[encoded data removed]",
      "text/plain": [
       "<Figure size 432x288 with 2 Axes>"
      ]
     },
     "metadata": {
      "needs_background": "light"
     },
     "output_type": "display_data"
    }
   ],
   "source": [
    "plt.subplot(221)\n",
    "plt.imshow(qq[0].reshape(16,16),cmap='binary')\n",
    "plt.subplot(222)\n",
    "plt.imshow(qq[1].reshape(16,16),cmap='binary')\n",
    "\n"
   ]
  },
  {
   "cell_type": "code",
   "execution_count": 15,
   "metadata": {
    "colab": {},
    "colab_type": "code",
    "id": "1f_0LlupyQM4"
   },
   "outputs": [],
   "source": [
    "pppp=[x.flatten() for x in x_train[[0,1]]]"
   ]
  },
  {
   "cell_type": "code",
   "execution_count": 18,
   "metadata": {
    "colab": {
     "base_uri": "https://localhost:8080/",
     "height": 166
    },
    "colab_type": "code",
    "executionInfo": {
     "elapsed": 961,
     "status": "ok",
     "timestamp": 1544976847389,
     "user": {
      "displayName": "Kishan Radadiya",
      "photoUrl": "https://lh4.googleusercontent.com/-7G0Zl3yqRnc/AAAAAAAAAAI/AAAAAAAAAGM/42ieKSC0Cj8/s64/photo.jpg",
      "userId": "13697761024944476430"
     },
     "user_tz": -330
    },
    "id": "ILcwCrPgyv0C",
    "outputId": "cca6f951-3ca9-4bd0-83ca-9cdddd254c46"
   },
   "outputs": [
    {
     "data": {
      "text/plain": [
       "<matplotlib.image.AxesImage at 0x7f3564754780>"
      ]
     },
     "execution_count": 18,
     "metadata": {},
     "output_type": "execute_result"
    },
    {
     "data": {
      "image/png": "[encoded data removed]",
      "text/plain": [
       "<Figure size 432x288 with 2 Axes>"
      ]
     },
     "metadata": {
      "needs_background": "light"
     },
     "output_type": "display_data"
    }
   ],
   "source": [
    "plt.subplot(221)\n",
    "plt.imshow(pppp[0].reshape(28,28),cmap='binary')\n",
    "plt.subplot(222)\n",
    "plt.imshow(pppp[1].reshape(28,28),cmap='binary')\n"
   ]
  },
  {
   "cell_type": "code",
   "execution_count": 20,
   "metadata": {
    "colab": {},
    "colab_type": "code",
    "id": "YkHFQXfry4R-"
   },
   "outputs": [],
   "source": [
    "ww=sess.run(weights)"
   ]
  },
  {
   "cell_type": "code",
   "execution_count": 21,
   "metadata": {},
   "outputs": [
    {
     "data": {
      "text/plain": [
       "{'h1': array([[ 0.01097392,  0.02746812,  0.13842821, ..., -0.22425385,\n",
       "         -0.1078051 , -0.16505198],\n",
       "        [-0.0246955 , -0.06503264,  0.20534456, ...,  0.10117456,\n",
       "          0.03050031, -0.01778282],\n",
       "        [ 0.17044722, -0.02499465,  0.20225595, ...,  0.20749448,\n",
       "         -0.03343303, -0.10795917],\n",
       "        ...,\n",
       "        [ 0.05977937,  0.14921783,  0.06976761, ..., -0.19138785,\n",
       "         -0.0746579 , -0.04545359],\n",
       "        [-0.06740233, -0.05181646,  0.06613322, ...,  0.0867492 ,\n",
       "          0.06335331,  0.00918245],\n",
       "        [-0.19304514,  0.10897265, -0.22647952, ...,  0.01747353,\n",
       "          0.06775787, -0.0677257 ]], dtype=float32),\n",
       " 'h2': array([[ 0.02874967,  0.24142018,  0.04351602, ..., -0.09198254,\n",
       "         -0.0140974 , -0.02070002],\n",
       "        [-0.28031313, -0.10267979,  0.2409485 , ...,  0.17432709,\n",
       "         -0.0958815 ,  0.01056853],\n",
       "        [ 0.09869963,  0.04513283,  0.07135221, ...,  0.10547787,\n",
       "         -0.13249457, -0.08408241],\n",
       "        ...,\n",
       "        [-0.0756873 , -0.04849774, -0.18970886, ..., -0.02590593,\n",
       "         -0.04134589, -0.05574426],\n",
       "        [-0.06843301,  0.30420545, -0.05304412, ...,  0.10848349,\n",
       "         -0.06047202, -0.14730383],\n",
       "        [-0.09633635,  0.06163794, -0.01437664, ..., -0.01288854,\n",
       "          0.1441582 , -0.05431366]], dtype=float32),\n",
       " 'out': array([[ 0.10720959, -0.29367173, -0.03206905, ...,  0.16709961,\n",
       "          0.1412272 ,  0.23385732],\n",
       "        [ 0.05899314,  0.05721397,  0.05287391, ..., -0.47281554,\n",
       "          0.05972074,  0.14491758],\n",
       "        [ 0.2446166 , -0.16297886, -0.10142174, ..., -0.00957487,\n",
       "         -0.03706163,  0.09070624],\n",
       "        ...,\n",
       "        [ 0.0440022 , -0.15082568,  0.01035268, ...,  0.03654867,\n",
       "         -0.31264445,  0.09740084],\n",
       "        [ 0.20652123,  0.34517315, -0.02537273, ...,  0.11418306,\n",
       "         -0.06106226,  0.05156525],\n",
       "        [-0.02808322, -0.01664877, -0.18467925, ...,  0.09633052,\n",
       "          0.20305233,  0.05357658]], dtype=float32)}"
      ]
     },
     "execution_count": 21,
     "metadata": {},
     "output_type": "execute_result"
    }
   ],
   "source": [
    "ww"
   ]
  },
  {
   "cell_type": "code",
   "execution_count": null,
   "metadata": {},
   "outputs": [],
   "source": []
  }
 ],
 "metadata": {
  "colab": {
   "collapsed_sections": [],
   "name": "Untitled0.ipynb",
   "provenance": [],
   "version": "0.3.2"
  },
  "kernelspec": {
   "display_name": "Python 3",
   "language": "python",
   "name": "python3"
  },
  "language_info": {
   "codemirror_mode": {
    "name": "ipython",
    "version": 3
   },
   "file_extension": ".py",
   "mimetype": "text/x-python",
   "name": "python",
   "nbconvert_exporter": "python",
   "pygments_lexer": "ipython3",
   "version": "3.6.6"
  }
 },
 "nbformat": 4,
 "nbformat_minor": 1
}
