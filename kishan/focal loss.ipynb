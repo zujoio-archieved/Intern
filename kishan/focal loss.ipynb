{
 "cells": [
  {
   "cell_type": "code",
   "execution_count": 1,
   "metadata": {},
   "outputs": [
    {
     "name": "stderr",
     "output_type": "stream",
     "text": [
      "Using TensorFlow backend.\n"
     ]
    }
   ],
   "source": [
    "%matplotlib inline\n",
    "import matplotlib.pyplot as plt\n",
    "import tensorflow as tf\n",
    "import numpy as np\n",
    "from sklearn.metrics import confusion_matrix\n",
    "from keras.datasets import mnist\n",
    "import time"
   ]
  },
  {
   "cell_type": "code",
   "execution_count": 2,
   "metadata": {},
   "outputs": [],
   "source": [
    "(x_trai, y_trai), (x_test, y_test) = mnist.load_data()\n"
   ]
  },
  {
   "cell_type": "code",
   "execution_count": 3,
   "metadata": {},
   "outputs": [
    {
     "name": "stdout",
     "output_type": "stream",
     "text": [
      "50377\n",
      "50377\n",
      "3000\n"
     ]
    }
   ],
   "source": [
    "#reomve 3000 image of 0,1,2\n",
    "temp_x=[]\n",
    "temp_y=[]\n",
    "count=[0,0,0]\n",
    "for i in range(x_trai.shape[0]):\n",
    "    flag=True\n",
    "    for j in range(3):\n",
    "        if j==y_trai[i]:\n",
    "            if count[j]>=3000:\n",
    "                flag=False\n",
    "                break\n",
    "            count[j]+=1\n",
    "            break\n",
    "    if flag:\n",
    "        temp_x.append(x_trai[i])\n",
    "        temp_y.append(y_trai[i])\n",
    "print(len(temp_x))\n",
    "print(len(temp_y))\n",
    "print(temp_y.count(1))\n",
    "x_trai=np.array(temp_x)\n",
    "y_trai=np.array(temp_y)"
   ]
  },
  {
   "cell_type": "code",
   "execution_count": 4,
   "metadata": {},
   "outputs": [],
   "source": [
    "y_trai=np.eye(10,dtype=float)[y_trai]\n",
    "y_test=np.eye(10,dtype=float)[y_test]\n",
    "x_trai=x_trai/255.0\n",
    "x_test=x_test/255.0"
   ]
  },
  {
   "cell_type": "code",
   "execution_count": 5,
   "metadata": {},
   "outputs": [
    {
     "data": {
      "text/plain": [
       "(50377, 28, 28)"
      ]
     },
     "execution_count": 5,
     "metadata": {},
     "output_type": "execute_result"
    }
   ],
   "source": [
    "x_trai.shape"
   ]
  },
  {
   "cell_type": "code",
   "execution_count": null,
   "metadata": {},
   "outputs": [],
   "source": []
  },
  {
   "cell_type": "code",
   "execution_count": 6,
   "metadata": {},
   "outputs": [],
   "source": [
    "from sklearn.model_selection import train_test_split\n",
    "\n",
    "x_train,x_val,y_train,y_val=train_test_split(x_trai,y_trai,test_size = 0.081,random_state=256)\n"
   ]
  },
  {
   "cell_type": "code",
   "execution_count": 7,
   "metadata": {},
   "outputs": [
    {
     "data": {
      "text/plain": [
       "(46296, 28, 28)"
      ]
     },
     "execution_count": 7,
     "metadata": {},
     "output_type": "execute_result"
    }
   ],
   "source": [
    "x_train.shape"
   ]
  },
  {
   "cell_type": "code",
   "execution_count": 8,
   "metadata": {},
   "outputs": [
    {
     "data": {
      "text/plain": [
       "(4081, 28, 28)"
      ]
     },
     "execution_count": 8,
     "metadata": {},
     "output_type": "execute_result"
    }
   ],
   "source": [
    "x_val.shape"
   ]
  },
  {
   "cell_type": "code",
   "execution_count": 9,
   "metadata": {},
   "outputs": [],
   "source": [
    "x = tf.placeholder(\"float\", [None, 28,28])\n",
    "y_true = tf.placeholder(\"float\", [None, 10])\n",
    "y_true_cls = tf.argmax(y_true, axis=1)"
   ]
  },
  {
   "cell_type": "code",
   "execution_count": 10,
   "metadata": {},
   "outputs": [],
   "source": [
    "def new_weights(shape,stddev=0.05):\n",
    "    return tf.Variable(tf.truncated_normal(shape, stddev=stddev))\n",
    "def new_biases(length,val=0.05):\n",
    "    return tf.Variable(tf.constant(val, shape=[length]))"
   ]
  },
  {
   "cell_type": "code",
   "execution_count": 11,
   "metadata": {},
   "outputs": [],
   "source": [
    "def focal_loss(y_true,y_pred,alpha=0.25,gamma=2):\n",
    "    zeros = tf.zeros_like(y_pred, dtype=y_pred.dtype)\n",
    "    pos_p_sub = tf.where(y_true > zeros, y_true - y_pred, zeros)\n",
    "    neg_p_sub = tf.where(y_true > zeros, zeros, y_pred)\n",
    "    per_entry_cross_ent = - alpha * (pos_p_sub ** gamma) * tf.log(tf.clip_by_value(y_pred, 1e-8, 1.0)) \\\n",
    "- (1 - alpha) * (neg_p_sub ** gamma) * tf.log(tf.clip_by_value(1.0 - y_pred, 1e-8, 1.0))\n",
    "    return tf.reduce_mean(per_entry_cross_ent)"
   ]
  },
  {
   "cell_type": "code",
   "execution_count": 12,
   "metadata": {},
   "outputs": [],
   "source": [
    "#First Layer :  6 feature maps or filters having size 5×5 \n",
    "weight1=new_weights([5,5,1,6])\n",
    "# Reshape input to 4-D vector\n",
    "input_layer = tf.reshape(x, [-1, 28, 28, 1]) # -1 adds minibatch support.   \n",
    "# Padding the input to make it 32x32. Specification of LeNET\n",
    "padded_input = tf.pad(input_layer, [[0, 0], [2, 2], [2, 2], [0, 0]], \"CONSTANT\") \n",
    "bias1 = new_biases(length=6)\n",
    "conv_layer1 = tf.nn.conv2d(input=padded_input,\n",
    "                         filter=weight1,\n",
    "                         strides=[1, 1, 1, 1],\n",
    "                         padding='VALID')\n",
    "conv_layer1 = tf.nn.relu(conv_layer1)\n",
    "#The resulting image dimensions will be reduced to 28x28x6\n",
    "\n",
    "#Second Layer: filter size 2×2 and a stride of two\n",
    "max_pool_layer1 = tf.nn.max_pool(value=conv_layer1,\n",
    "                               ksize=[1, 2, 2, 1],\n",
    "                               strides=[1, 2, 2, 1],\n",
    "                               padding='VALID')\n",
    "#The resulting image dimensions will be reduced to 14x14x6\n",
    "\n",
    "\n",
    "#Third Layer: second convolutional layer with 16 feature maps having size 5×5,\n",
    "weight2=new_weights([5,5,6,16])\n",
    "bias2 = new_biases(length=6)\n",
    "conv_layer2 = tf.nn.conv2d(input=max_pool_layer1,\n",
    "                         filter=weight2,\n",
    "                         strides=[1, 1, 1, 1],\n",
    "                         padding='VALID')\n",
    "conv_layer2 = tf.nn.relu(conv_layer2)\n",
    "#The resulting image dimensions will be reduced to 10x10x6\n",
    "\n",
    "#Fourth Layer:filter size 2×2 and a stride of 2\n",
    "\n",
    "max_pool_layer2 = tf.nn.max_pool(value=conv_layer2,\n",
    "                               ksize=[1, 2, 2, 1],\n",
    "                               strides=[1, 2, 2, 1],\n",
    "                               padding='VALID')\n",
    "\n",
    "#The resulting image dimensions will be reduced to 5x5x6\n",
    "\n",
    "#Fifth Layer: fully connected convolutional layer with 120 feature maps each of size 1×1\n",
    "layer_shape = max_pool_layer2.get_shape()\n",
    "num_features = layer_shape[1:4].num_elements()\n",
    "flatten_layer=tf.reshape(max_pool_layer2, [-1, num_features])\n",
    "weight3 = new_weights(shape=[400, 120])\n",
    "bias3 = new_biases(length=120)\n",
    "fc_layer1=tf.matmul(flatten_layer, weight3) + bias3\n",
    "fc_layer1 = tf.nn.relu(fc_layer1)\n",
    "\n",
    "#Sixth Layer:\n",
    "\n",
    "weight4 = new_weights(shape=[120, 84])\n",
    "bias4 = new_biases(length=84)\n",
    "fc_layer2=tf.matmul(fc_layer1, weight4) + bias4\n",
    "fc_layer2 = tf.nn.relu(fc_layer2)\n",
    "\n",
    "#Output Layer:\n",
    "\n",
    "weight5 = new_weights(shape=[84, 10])\n",
    "bias5 = new_biases(length=10)\n",
    "output_layer=tf.matmul(fc_layer2, weight5) + bias5\n",
    "y_pred = tf.nn.softmax(output_layer)\n",
    "y_pred_cls = tf.argmax(y_pred, axis=1)"
   ]
  },
  {
   "cell_type": "code",
   "execution_count": 13,
   "metadata": {},
   "outputs": [],
   "source": [
    "#cross_entropy = tf.nn.softmax_cross_entropy_with_logits(logits=output_layer,labels=y_true)"
   ]
  },
  {
   "cell_type": "code",
   "execution_count": 14,
   "metadata": {},
   "outputs": [],
   "source": [
    "#cost = tf.reduce_mean(cross_entropy)\n",
    "cost= focal_loss(y_true,y_pred)"
   ]
  },
  {
   "cell_type": "code",
   "execution_count": 15,
   "metadata": {},
   "outputs": [],
   "source": [
    "optimizer = tf.train.AdamOptimizer(learning_rate=1e-3).minimize(cost)"
   ]
  },
  {
   "cell_type": "code",
   "execution_count": 16,
   "metadata": {},
   "outputs": [],
   "source": [
    "correct_prediction = tf.equal(y_pred_cls, y_true_cls)"
   ]
  },
  {
   "cell_type": "code",
   "execution_count": 17,
   "metadata": {},
   "outputs": [],
   "source": [
    "accuracy = tf.reduce_mean(tf.cast(correct_prediction, tf.float32))"
   ]
  },
  {
   "cell_type": "code",
   "execution_count": 18,
   "metadata": {},
   "outputs": [],
   "source": [
    "n_b=0\n",
    "def next_batch(batch_size):\n",
    "    remove=batch_size\n",
    "    global n_b\n",
    "    n_b+=batch_size\n",
    "    if n_b>x_train.shape[0]:\n",
    "        remove=x_train.shape[0]%batch_size\n",
    "        n_b=x_train.shape[0]\n",
    "    \n",
    "    return x_train[n_b-remove:n_b],y_train[n_b-remove:n_b]"
   ]
  },
  {
   "cell_type": "code",
   "execution_count": 19,
   "metadata": {},
   "outputs": [],
   "source": [
    "session = tf.Session()"
   ]
  },
  {
   "cell_type": "code",
   "execution_count": 20,
   "metadata": {},
   "outputs": [],
   "source": [
    "session.run(tf.global_variables_initializer())"
   ]
  },
  {
   "cell_type": "code",
   "execution_count": 21,
   "metadata": {},
   "outputs": [],
   "source": [
    "total_iterations = 0\n",
    "batch_size=128\n",
    "num_examples=x_train.shape[0]\n",
    "def optimize(num_iterations):\n",
    "    global total_iterations\n",
    "    global n_b\n",
    "    total_batch = int(num_examples/batch_size)\n",
    "    if num_examples%batch_size!=0:\n",
    "        total_batch+=1\n",
    "    n_b=0\n",
    "    for i in range(total_iterations,total_iterations + num_iterations):\n",
    "        start_time = time.time()\n",
    "        for j in range(total_batch):\n",
    "            x_batch, y_true_batch = next_batch(batch_size)\n",
    "            feed_dict_train = {x: x_batch,y_true: y_true_batch}\n",
    "            session.run(optimizer, feed_dict=feed_dict_train)\n",
    "        \n",
    "        feed_dict_train = {x: x_val,y_true: y_val}\n",
    "        acc = session.run(accuracy, feed_dict=feed_dict_train)\n",
    "        \n",
    "        loss = session.run(cost, feed_dict=feed_dict_train)\n",
    "        \n",
    "        feed_dict_train = {x: x_train,y_true: y_train}\n",
    "        acc1 = session.run(accuracy, feed_dict=feed_dict_train)\n",
    "        \n",
    "        loss1 = session.run(cost, feed_dict=feed_dict_train)\n",
    "        \n",
    "        msg = \"Optimization Iteration: {0}, Training Accuracy: {1} Training Loss : {2} \\n val Accuracy: {3} val Loss : {4}\"\n",
    "        print(msg.format(i + 1, acc1,loss1,acc,loss))\n",
    "        \n",
    "        end_time = time.time()\n",
    "        time_dif = end_time - start_time\n",
    "        print(\"Time usage: \" + str(time_dif))"
   ]
  },
  {
   "cell_type": "code",
   "execution_count": 22,
   "metadata": {},
   "outputs": [
    {
     "name": "stdout",
     "output_type": "stream",
     "text": [
      "Optimization Iteration: 1, Training Accuracy: 0.9581605195999146 Training Loss : 0.0028940129559487104 \n",
      " val Accuracy: 0.9590786695480347 val Loss : 0.0028826638590544462\n",
      "Time usage: 36.4773633480072\n",
      "Optimization Iteration: 2, Training Accuracy: 0.9396275877952576 Training Loss : 0.005518994759768248 \n",
      " val Accuracy: 0.9399656653404236 val Loss : 0.0051431977190077305\n",
      "Time usage: 31.155462980270386\n"
     ]
    }
   ],
   "source": [
    "optimize(2)"
   ]
  },
  {
   "cell_type": "raw",
   "metadata": {},
   "source": [
    "Optimization Iteration: 1, Training Accuracy: 0.9581389427185059 Training Loss : 0.14086487889289856 \n",
    " val Accuracy: 0.9603038430213928 val Loss : 0.14062845706939697\n",
    "Time usage: 52.71534252166748\n",
    "Optimization Iteration: 2, Training Accuracy: 0.9238379001617432 Training Loss : 0.35751858353614807 \n",
    " val Accuracy: 0.9225680232048035 val Loss : 0.3632906377315521\n",
    "Time usage: 32.25090026855469"
   ]
  },
  {
   "cell_type": "code",
   "execution_count": null,
   "metadata": {},
   "outputs": [],
   "source": [
    "feed_dict_train = {x: x_val[[0,1]],y_true: y_val[[0,1]]}\n",
    "aaa = session.run(y_pred, feed_dict=feed_dict_train)"
   ]
  },
  {
   "cell_type": "code",
   "execution_count": null,
   "metadata": {},
   "outputs": [],
   "source": [
    "pp= session.run(focal_loss(aaa,y_val[[0,1]]))"
   ]
  },
  {
   "cell_type": "code",
   "execution_count": null,
   "metadata": {},
   "outputs": [],
   "source": [
    "pp"
   ]
  },
  {
   "cell_type": "code",
   "execution_count": null,
   "metadata": {},
   "outputs": [],
   "source": []
  }
 ],
 "metadata": {
  "kernelspec": {
   "display_name": "Python 3",
   "language": "python",
   "name": "python3"
  },
  "language_info": {
   "codemirror_mode": {
    "name": "ipython",
    "version": 3
   },
   "file_extension": ".py",
   "mimetype": "text/x-python",
   "name": "python",
   "nbconvert_exporter": "python",
   "pygments_lexer": "ipython3",
   "version": "3.6.6"
  }
 },
 "nbformat": 4,
 "nbformat_minor": 2
}
