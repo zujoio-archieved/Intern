{
 "cells": [
  {
   "cell_type": "code",
   "execution_count": 1,
   "metadata": {},
   "outputs": [
    {
     "name": "stderr",
     "output_type": "stream",
     "text": [
      "Using TensorFlow backend.\n"
     ]
    }
   ],
   "source": [
    "%matplotlib inline\n",
    "import matplotlib.pyplot as plt\n",
    "import tensorflow as tf\n",
    "import numpy as np\n",
    "from sklearn.metrics import confusion_matrix\n",
    "from keras.datasets import mnist\n",
    "import time"
   ]
  },
  {
   "cell_type": "code",
   "execution_count": 2,
   "metadata": {},
   "outputs": [],
   "source": [
    "(x_trai, y_trai), (x_test, y_test) = mnist.load_data()\n"
   ]
  },
  {
   "cell_type": "code",
   "execution_count": 3,
   "metadata": {},
   "outputs": [
    {
     "name": "stdout",
     "output_type": "stream",
     "text": [
      "27800\n",
      "27800\n",
      "2000\n"
     ]
    }
   ],
   "source": [
    "#reomve 3000 image of 0,1,2\n",
    "temp_x=[]\n",
    "temp_y=[]\n",
    "count=[0,0,0,0,0,0,0,0]\n",
    "for i in range(x_trai.shape[0]):\n",
    "    flag=True\n",
    "    for j in range(8):\n",
    "        if j==y_trai[i]:\n",
    "            if count[j]>=2000:\n",
    "                flag=False\n",
    "                break\n",
    "            count[j]+=1\n",
    "            break\n",
    "    if flag:\n",
    "        temp_x.append(x_trai[i])\n",
    "        temp_y.append(y_trai[i])\n",
    "print(len(temp_x))\n",
    "print(len(temp_y))\n",
    "print(temp_y.count(1))\n",
    "x_trai=np.array(temp_x)\n",
    "y_trai=np.array(temp_y)"
   ]
  },
  {
   "cell_type": "code",
   "execution_count": 4,
   "metadata": {},
   "outputs": [],
   "source": [
    "y_trai=np.eye(10,dtype=float)[y_trai]\n",
    "y_test=np.eye(10,dtype=float)[y_test]\n",
    "x_trai=x_trai/255.0\n",
    "x_test=x_test/255.0"
   ]
  },
  {
   "cell_type": "code",
   "execution_count": 5,
   "metadata": {},
   "outputs": [
    {
     "data": {
      "text/plain": [
       "(27800, 28, 28)"
      ]
     },
     "execution_count": 5,
     "metadata": {},
     "output_type": "execute_result"
    }
   ],
   "source": [
    "x_trai.shape"
   ]
  },
  {
   "cell_type": "code",
   "execution_count": null,
   "metadata": {},
   "outputs": [],
   "source": []
  },
  {
   "cell_type": "code",
   "execution_count": 6,
   "metadata": {},
   "outputs": [],
   "source": [
    "from sklearn.model_selection import train_test_split\n",
    "\n",
    "x_train,x_val,y_train,y_val=train_test_split(x_trai,y_trai,test_size = 0.081,random_state=256)\n"
   ]
  },
  {
   "cell_type": "code",
   "execution_count": 7,
   "metadata": {},
   "outputs": [
    {
     "data": {
      "text/plain": [
       "(25548, 28, 28)"
      ]
     },
     "execution_count": 7,
     "metadata": {},
     "output_type": "execute_result"
    }
   ],
   "source": [
    "x_train.shape"
   ]
  },
  {
   "cell_type": "code",
   "execution_count": 8,
   "metadata": {},
   "outputs": [
    {
     "data": {
      "text/plain": [
       "(2252, 28, 28)"
      ]
     },
     "execution_count": 8,
     "metadata": {},
     "output_type": "execute_result"
    }
   ],
   "source": [
    "x_val.shape"
   ]
  },
  {
   "cell_type": "code",
   "execution_count": 9,
   "metadata": {},
   "outputs": [],
   "source": [
    "tf.reset_default_graph()\n",
    "x = tf.placeholder(\"float\", [None, 28,28])\n",
    "x_image = tf.reshape(x, [-1, 28, 28, 1])\n",
    "tf.summary.image('input',x_image,3)\n",
    "y_true = tf.placeholder(\"float\", [None, 10])\n",
    "y_true_cls = tf.argmax(y_true, axis=1)"
   ]
  },
  {
   "cell_type": "code",
   "execution_count": 10,
   "metadata": {},
   "outputs": [],
   "source": [
    "def new_weights(shape,stddev=0.05):\n",
    "    return tf.Variable(tf.truncated_normal(shape, stddev=stddev))\n",
    "def new_biases(length,val=0.05):\n",
    "    return tf.Variable(tf.constant(val, shape=[length]))"
   ]
  },
  {
   "cell_type": "code",
   "execution_count": 11,
   "metadata": {},
   "outputs": [],
   "source": [
    "def focal_loss(y_true,y_pred,alpha=0.25,gamma=2):\n",
    "    zeros = tf.zeros_like(y_pred, dtype=y_pred.dtype)\n",
    "    pos_p_sub = tf.where(y_true > zeros, y_true - y_pred, zeros)\n",
    "    neg_p_sub = tf.where(y_true > zeros, zeros, y_pred)\n",
    "    per_entry_cross_ent = - alpha * (pos_p_sub ** gamma) * tf.log(tf.clip_by_value(y_pred, 1e-8, 1.0)) \\\n",
    "- (1 - alpha) * (neg_p_sub ** gamma) * tf.log(tf.clip_by_value(1.0 - y_pred, 1e-8, 1.0))\n",
    "    return tf.reduce_mean(tf.reduce_sum(per_entry_cross_ent,1))\n",
    "def focal_loss1(y_true,y_pred,alpha=0.25,gamma=2):\n",
    "    zeros = tf.zeros_like(y_pred, dtype=y_pred.dtype)\n",
    "    pos_p_sub = tf.where(y_true > zeros, y_true - y_pred, zeros)\n",
    "    neg_p_sub = tf.where(y_true > zeros, zeros, y_pred)\n",
    "    per_entry_cross_ent = - alpha * (pos_p_sub ** gamma) * tf.log(tf.clip_by_value(y_pred, 1e-8, 1.0)) \\\n",
    "- (1 - alpha) * (neg_p_sub ** gamma) * tf.log(tf.clip_by_value(1.0 - y_pred, 1e-8, 1.0))\n",
    "    return per_entry_cross_ent"
   ]
  },
  {
   "cell_type": "code",
   "execution_count": 12,
   "metadata": {},
   "outputs": [],
   "source": [
    "with tf.name_scope('conv1'):\n",
    "    #First Layer :  6 feature maps or filters having size 5×5 \n",
    "    weight1=new_weights([5,5,1,6])\n",
    "    \n",
    "    tf.summary.histogram(\"weight\",weight1)\n",
    "    \n",
    "    # Reshape input to 4-D vector\n",
    "    input_layer = tf.reshape(x, [-1, 28, 28, 1]) # -1 adds minibatch support.   \n",
    "    # Padding the input to make it 32x32. Specification of LeNET\n",
    "    padded_input = tf.pad(input_layer, [[0, 0], [2, 2], [2, 2], [0, 0]], \"CONSTANT\") \n",
    "    bias1 = new_biases(length=6)\n",
    "    tf.summary.histogram(\"bias\",bias1)\n",
    "\n",
    "    conv_layer1 = tf.nn.conv2d(input=padded_input,\n",
    "                             filter=weight1,\n",
    "                             strides=[1, 1, 1, 1],\n",
    "                             padding='VALID')\n",
    "    conv_layer1 = tf.nn.relu(conv_layer1)\n",
    "    tf.summary.histogram(\"activation\",conv_layer1)\n",
    "    #The resulting image dimensions will be reduced to 28x28x6\n",
    "\n",
    "    #Second Layer: filter size 2×2 and a stride of two\n",
    "    max_pool_layer1 = tf.nn.max_pool(value=conv_layer1,\n",
    "                                   ksize=[1, 2, 2, 1],\n",
    "                                   strides=[1, 2, 2, 1],\n",
    "                                   padding='VALID')\n",
    "    #The resulting image dimensions will be reduced to 14x14x6\n",
    "\n",
    "with tf.name_scope('conv2'):\n",
    "    #Third Layer: second convolutional layer with 16 feature maps having size 5×5,\n",
    "    weight2=new_weights([5,5,6,16])\n",
    "    tf.summary.histogram(\"weight\",weight2)\n",
    "\n",
    "    bias2 = new_biases(length=6)\n",
    "    tf.summary.histogram(\"bias\",bias2)\n",
    "\n",
    "    conv_layer2 = tf.nn.conv2d(input=max_pool_layer1,\n",
    "                             filter=weight2,\n",
    "                             strides=[1, 1, 1, 1],\n",
    "                             padding='VALID')\n",
    "    conv_layer2 = tf.nn.relu(conv_layer2)\n",
    "    tf.summary.histogram(\"activation\",conv_layer2)\n",
    "\n",
    "    #The resulting image dimensions will be reduced to 10x10x6\n",
    "\n",
    "    #Fourth Layer:filter size 2×2 and a stride of 2\n",
    "\n",
    "    max_pool_layer2 = tf.nn.max_pool(value=conv_layer2,\n",
    "                                   ksize=[1, 2, 2, 1],\n",
    "                                   strides=[1, 2, 2, 1],\n",
    "                                   padding='VALID')\n",
    "\n",
    "    #The resulting image dimensions will be reduced to 5x5x6\n",
    "with tf.name_scope('fc1'):\n",
    "\n",
    "    #Fifth Layer: fully connected convolutional layer with 120 feature maps each of size 1×1\n",
    "    layer_shape = max_pool_layer2.get_shape()\n",
    "    num_features = layer_shape[1:4].num_elements()\n",
    "    flatten_layer=tf.reshape(max_pool_layer2, [-1, num_features])\n",
    "    weight3 = new_weights(shape=[400, 120])\n",
    "    bias3 = new_biases(length=120)\n",
    "    fc_layer1=tf.matmul(flatten_layer, weight3) + bias3\n",
    "    fc_layer1 = tf.nn.relu(fc_layer1)\n",
    "    tf.summary.histogram(\"weight\",weight3)\n",
    "    tf.summary.histogram(\"bias\",bias3)\n",
    "    tf.summary.histogram(\"activation\",fc_layer1)\n",
    "\n",
    "with tf.name_scope('fc2'):\n",
    "\n",
    "    #Sixth Layer:\n",
    "\n",
    "    weight4 = new_weights(shape=[120, 84])\n",
    "    bias4 = new_biases(length=84)\n",
    "    fc_layer2=tf.matmul(fc_layer1, weight4) + bias4\n",
    "    fc_layer2 = tf.nn.relu(fc_layer2)\n",
    "    \n",
    "    tf.summary.histogram(\"weight\",weight4)\n",
    "    tf.summary.histogram(\"bias\",bias4)\n",
    "    tf.summary.histogram(\"activation\",fc_layer2)\n",
    "with tf.name_scope('output'):\n",
    "    #Output Layer:\n",
    "\n",
    "    weight5 = new_weights(shape=[84, 10])\n",
    "    bias5 = new_biases(length=10)\n",
    "    output_layer=tf.matmul(fc_layer2, weight5) + bias5\n",
    "    y_pred = tf.nn.softmax(output_layer)\n",
    "    y_pred_cls = tf.argmax(y_pred, axis=1)\n",
    "    \n",
    "    tf.summary.histogram(\"weight\",weight5)\n",
    "    tf.summary.histogram(\"bias\",bias5)\n",
    "    tf.summary.histogram(\"activation\",y_pred)"
   ]
  },
  {
   "cell_type": "code",
   "execution_count": null,
   "metadata": {},
   "outputs": [],
   "source": [
    "#cross_entropy = tf.nn.softmax_cross_entropy_with_logits(logits=output_layer,labels=y_true)"
   ]
  },
  {
   "cell_type": "code",
   "execution_count": 13,
   "metadata": {},
   "outputs": [],
   "source": [
    "#cost = tf.reduce_mean(cross_entropy)\n",
    "with tf.name_scope('loss'):\n",
    "    cost= focal_loss(y_true,y_pred)\n",
    "    tf.summary.scalar('loss',cost)\n",
    "#cost1= focal_loss1(y_true,y_pred)"
   ]
  },
  {
   "cell_type": "code",
   "execution_count": 14,
   "metadata": {},
   "outputs": [],
   "source": [
    "with tf.name_scope(\"optimizer\"):\n",
    "    optimizer = tf.train.AdamOptimizer(learning_rate=1e-2).minimize(cost)"
   ]
  },
  {
   "cell_type": "code",
   "execution_count": 15,
   "metadata": {},
   "outputs": [],
   "source": [
    "with tf.name_scope(\"accuracy\"):\n",
    "    correct_prediction = tf.equal(y_pred_cls, y_true_cls)\n",
    "    accuracy = tf.reduce_mean(tf.cast(correct_prediction, tf.float32))\n",
    "    tf.summary.scalar(\"accuracy\", accuracy)"
   ]
  },
  {
   "cell_type": "code",
   "execution_count": 16,
   "metadata": {},
   "outputs": [],
   "source": [
    "summ = tf.summary.merge_all()"
   ]
  },
  {
   "cell_type": "code",
   "execution_count": 17,
   "metadata": {},
   "outputs": [],
   "source": [
    "n_b=0\n",
    "def next_batch(batch_size):\n",
    "    remove=batch_size\n",
    "    global n_b\n",
    "    n_b+=batch_size\n",
    "    if n_b>x_train.shape[0]:\n",
    "        remove=x_train.shape[0]%batch_size\n",
    "        n_b=x_train.shape[0]\n",
    "    \n",
    "    return x_train[n_b-remove:n_b],y_train[n_b-remove:n_b]"
   ]
  },
  {
   "cell_type": "code",
   "execution_count": 18,
   "metadata": {},
   "outputs": [],
   "source": [
    "session = tf.Session()"
   ]
  },
  {
   "cell_type": "code",
   "execution_count": 19,
   "metadata": {},
   "outputs": [],
   "source": [
    "session.run(tf.global_variables_initializer())\n",
    "writer = tf.summary.FileWriter('./graphs', session.graph)"
   ]
  },
  {
   "cell_type": "code",
   "execution_count": null,
   "metadata": {},
   "outputs": [],
   "source": [
    "total_iterations = 0\n",
    "batch_size=32\n",
    "num_examples=x_train.shape[0]\n",
    "def optimize(num_iterations):\n",
    "    global total_iterations\n",
    "    global n_b\n",
    "    global writer\n",
    "    total_batch = int(num_examples/batch_size)\n",
    "    if num_examples%batch_size!=0:\n",
    "        total_batch+=1\n",
    "    n_b=0\n",
    "    for i in range(total_iterations,total_iterations + num_iterations):\n",
    "        start_time = time.time()\n",
    "        for j in range(total_batch):\n",
    "            x_batch, y_true_batch = next_batch(batch_size)\n",
    "            feed_dict_train = {x: x_batch,y_true: y_true_batch}\n",
    "            session.run(optimizer, feed_dict=feed_dict_train)\n",
    "        \n",
    "        feed_dict_train = {x: x_val,y_true: y_val}\n",
    "        [loss,acc] = session.run([cost,accuracy], feed_dict=feed_dict_train)\n",
    "        feed_dict_train = {x: x_train,y_true: y_train}\n",
    "        [loss1,acc1,s] = session.run([cost,accuracy,summ], feed_dict=feed_dict_train)\n",
    "        writer.add_summary(s,i)\n",
    "\n",
    "        msg = \"Optimization Iteration: {0}, Training Accuracy: {1} Training Loss : {2} \\n val Accuracy: {3} val Loss : {4}\"\n",
    "        print(msg.format(i + 1, acc1,loss1,acc,loss))\n",
    "        \n",
    "        end_time = time.time()\n",
    "        time_dif = end_time - start_time\n",
    "        print(\"Time usage: \" + str(time_dif))"
   ]
  },
  {
   "cell_type": "code",
   "execution_count": null,
   "metadata": {
    "scrolled": true
   },
   "outputs": [],
   "source": [
    "optimize(10)"
   ]
  },
  {
   "cell_type": "markdown",
   "metadata": {},
   "source": [
    "## cross_entropy"
   ]
  },
  {
   "cell_type": "raw",
   "metadata": {},
   "source": [
    "Optimization Iteration: 1, Training Accuracy: 0.9556912183761597 Training Loss : 0.1536865085363388 \n",
    " val Accuracy: 0.9520426392555237 val Loss : 0.17201299965381622\n",
    "Time usage: 21.45594310760498\n",
    "Optimization Iteration: 2, Training Accuracy: 0.700798511505127 Training Loss : 4.924549579620361 \n",
    " val Accuracy: 0.6856127977371216 val Loss : 5.05477237701416\n",
    "Time usage: 15.274388074874878\n",
    "Optimization Iteration: 3, Training Accuracy: 0.702285885810852 Training Loss : 4.915233135223389 \n",
    " val Accuracy: 0.6873890161514282 val Loss : 5.043810844421387\n",
    "Time usage: 15.307123899459839\n",
    "Optimization Iteration: 4, Training Accuracy: 0.704086422920227 Training Loss : 4.906386375427246 \n",
    " val Accuracy: 0.6891651749610901 val Loss : 5.033764362335205\n",
    "Time usage: 15.299612283706665\n",
    "Optimization Iteration: 5, Training Accuracy: 0.7054955363273621 Training Loss : 4.8904709815979 \n",
    " val Accuracy: 0.6900532841682434 val Loss : 5.016879081726074\n",
    "Time usage: 15.297868728637695\n",
    "Optimization Iteration: 6, Training Accuracy: 0.707061231136322 Training Loss : 4.885500907897949 \n",
    " val Accuracy: 0.69182950258255 val Loss : 5.011512279510498\n",
    "Time usage: 15.231043100357056\n",
    "Optimization Iteration: 7, Training Accuracy: 0.7076091766357422 Training Loss : 4.895819664001465 \n",
    " val Accuracy: 0.6909413933753967 val Loss : 5.021848678588867\n",
    "Time usage: 15.338157653808594\n",
    "Optimization Iteration: 8, Training Accuracy: 0.7083529233932495 Training Loss : 4.899246692657471 \n",
    " val Accuracy: 0.6900532841682434 val Loss : 5.025434970855713\n",
    "Time usage: 15.427907228469849\n",
    "Optimization Iteration: 9, Training Accuracy: 0.7095662951469421 Training Loss : 4.9252705574035645 \n",
    " val Accuracy: 0.6909413933753967 val Loss : 5.052853107452393\n",
    "Time usage: 15.399805545806885\n",
    "Optimization Iteration: 10, Training Accuracy: 0.7119539976119995 Training Loss : 4.892424583435059 \n",
    " val Accuracy: 0.6936056613922119 val Loss : 5.020074367523193\n",
    "Time usage: 15.618542909622192"
   ]
  },
  {
   "cell_type": "markdown",
   "metadata": {},
   "source": [
    "## Focal loss"
   ]
  },
  {
   "cell_type": "raw",
   "metadata": {},
   "source": [
    "Optimization Iteration: 1, Training Accuracy: 0.9708000421524048 Training Loss : 0.027622049674391747 \n",
    " val Accuracy: 0.9578152894973755 val Loss : 0.037875011563301086\n",
    "Time usage: 21.4383225440979\n",
    "Optimization Iteration: 2, Training Accuracy: 0.9100516438484192 Training Loss : 0.12533007562160492 \n",
    " val Accuracy: 0.9027531147003174 val Loss : 0.13195472955703735\n",
    "Time usage: 15.292277574539185\n",
    "Optimization Iteration: 3, Training Accuracy: 0.910286545753479 Training Loss : 0.12685628235340118 \n",
    " val Accuracy: 0.9009768962860107 val Loss : 0.13391494750976562\n",
    "Time usage: 15.370803117752075\n",
    "Optimization Iteration: 4, Training Accuracy: 0.9098168015480042 Training Loss : 0.12844038009643555 \n",
    " val Accuracy: 0.8996447324752808 val Loss : 0.13584795594215393\n",
    "Time usage: 15.251373529434204\n",
    "Optimization Iteration: 5, Training Accuracy: 0.9095819592475891 Training Loss : 0.13009630143642426 \n",
    " val Accuracy: 0.8978685736656189 val Loss : 0.1378820389509201\n",
    "Time usage: 15.429195404052734\n",
    "Optimization Iteration: 6, Training Accuracy: 0.9088382720947266 Training Loss : 0.13177677989006042 \n",
    " val Accuracy: 0.8978685736656189 val Loss : 0.13992436230182648\n",
    "Time usage: 15.534445524215698\n",
    "Optimization Iteration: 7, Training Accuracy: 0.9080162644386292 Training Loss : 0.13358958065509796 \n",
    " val Accuracy: 0.8974245190620422 val Loss : 0.14209778606891632\n",
    "Time usage: 15.935619831085205\n",
    "Optimization Iteration: 8, Training Accuracy: 0.9070377349853516 Training Loss : 0.13564272224903107 \n",
    " val Accuracy: 0.8965364098548889 val Loss : 0.14452268183231354\n",
    "Time usage: 15.667966604232788\n",
    "Optimization Iteration: 9, Training Accuracy: 0.9061766266822815 Training Loss : 0.1379670947790146 \n",
    " val Accuracy: 0.8960923552513123 val Loss : 0.14726290106773376\n",
    "Time usage: 15.415058135986328\n",
    "Optimization Iteration: 10, Training Accuracy: 0.9047675132751465 Training Loss : 0.14058606326580048 \n",
    " val Accuracy: 0.8960923552513123 val Loss : 0.15036822855472565\n",
    "Time usage: 16.281357526779175"
   ]
  },
  {
   "cell_type": "code",
   "execution_count": null,
   "metadata": {},
   "outputs": [],
   "source": [
    "feed_dict_train = {x: x_val[[0,1]],y_true: y_val[[0,1]]}\n",
    "aaa = session.run(y_pred, feed_dict=feed_dict_train)"
   ]
  },
  {
   "cell_type": "code",
   "execution_count": null,
   "metadata": {},
   "outputs": [],
   "source": [
    "pp= session.run(focal_loss(aaa,y_val[[0,1]]))"
   ]
  },
  {
   "cell_type": "code",
   "execution_count": null,
   "metadata": {},
   "outputs": [],
   "source": [
    "feed_dict_train = {x: x_train,y_true: y_train}\n",
    "loss = session.run(cost, feed_dict=feed_dict_train)"
   ]
  },
  {
   "cell_type": "code",
   "execution_count": null,
   "metadata": {},
   "outputs": [],
   "source": [
    "new_loss = session.run(tf.reduce_sum(loss,1))"
   ]
  },
  {
   "cell_type": "code",
   "execution_count": null,
   "metadata": {},
   "outputs": [],
   "source": [
    "xyz=[]\n",
    "for i in loss:\n",
    "    xyz.append(session.run( tf.reduce_sum(i)))"
   ]
  },
  {
   "cell_type": "code",
   "execution_count": null,
   "metadata": {},
   "outputs": [],
   "source": [
    "mean_loss= session.run(tf.reduce_mean(new_loss))"
   ]
  },
  {
   "cell_type": "code",
   "execution_count": null,
   "metadata": {},
   "outputs": [],
   "source": [
    "loss"
   ]
  },
  {
   "cell_type": "markdown",
   "metadata": {},
   "source": [
    "# visualisation"
   ]
  },
  {
   "cell_type": "code",
   "execution_count": null,
   "metadata": {},
   "outputs": [],
   "source": []
  },
  {
   "cell_type": "code",
   "execution_count": null,
   "metadata": {},
   "outputs": [],
   "source": [
    "feed_dict_train = {x: x_val[[0,1]],y_true: y_val[[0,1]]}\n",
    "aaa = session.run(y_pred, feed_dict=feed_dict_train)"
   ]
  },
  {
   "cell_type": "code",
   "execution_count": null,
   "metadata": {},
   "outputs": [],
   "source": []
  }
 ],
 "metadata": {
  "kernelspec": {
   "display_name": "Python 3",
   "language": "python",
   "name": "python3"
  },
  "language_info": {
   "codemirror_mode": {
    "name": "ipython",
    "version": 3
   },
   "file_extension": ".py",
   "mimetype": "text/x-python",
   "name": "python",
   "nbconvert_exporter": "python",
   "pygments_lexer": "ipython3",
   "version": "3.6.6"
  }
 },
 "nbformat": 4,
 "nbformat_minor": 2
}
