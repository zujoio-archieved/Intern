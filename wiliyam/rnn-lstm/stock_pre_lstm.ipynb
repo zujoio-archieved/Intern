{
 "cells": [
  {
   "cell_type": "code",
   "execution_count": 23,
   "metadata": {},
   "outputs": [],
   "source": [
    "import numpy as np # linear algebra\n",
    "import pandas as pd # data processing, CSV file I/O (e.g. pd.read_csv)\n",
    "\n",
    "from subprocess import check_output\n",
    "from keras.layers.core import Dense, Activation, Dropout\n",
    "from keras.layers.recurrent import LSTM\n",
    "from keras.models import Sequential\n",
    "from sklearn.model_selection import  train_test_split\n",
    "import time #helper libraries\n",
    "from sklearn.preprocessing import MinMaxScaler\n",
    "import matplotlib.pyplot as plt\n",
    "from numpy import newaxis"
   ]
  },
  {
   "cell_type": "code",
   "execution_count": 64,
   "metadata": {},
   "outputs": [
    {
     "data": {
      "text/html": [
       "<div>\n",
       "<style scoped>\n",
       "    .dataframe tbody tr th:only-of-type {\n",
       "        vertical-align: middle;\n",
       "    }\n",
       "\n",
       "    .dataframe tbody tr th {\n",
       "        vertical-align: top;\n",
       "    }\n",
       "\n",
       "    .dataframe thead th {\n",
       "        text-align: right;\n",
       "    }\n",
       "</style>\n",
       "<table border=\"1\" class=\"dataframe\">\n",
       "  <thead>\n",
       "    <tr style=\"text-align: right;\">\n",
       "      <th></th>\n",
       "      <th>Date</th>\n",
       "      <th>Open</th>\n",
       "      <th>High</th>\n",
       "      <th>Low</th>\n",
       "      <th>Close</th>\n",
       "      <th>Adj Close</th>\n",
       "      <th>Volume</th>\n",
       "    </tr>\n",
       "  </thead>\n",
       "  <tbody>\n",
       "    <tr>\n",
       "      <th>0</th>\n",
       "      <td>2004-08-25</td>\n",
       "      <td>149.837006</td>\n",
       "      <td>149.837006</td>\n",
       "      <td>122.375000</td>\n",
       "      <td>123.494003</td>\n",
       "      <td>67.378128</td>\n",
       "      <td>136928.0</td>\n",
       "    </tr>\n",
       "    <tr>\n",
       "      <th>1</th>\n",
       "      <td>2004-08-26</td>\n",
       "      <td>124.000000</td>\n",
       "      <td>124.625000</td>\n",
       "      <td>121.912003</td>\n",
       "      <td>122.375000</td>\n",
       "      <td>66.767601</td>\n",
       "      <td>40443200.0</td>\n",
       "    </tr>\n",
       "    <tr>\n",
       "      <th>2</th>\n",
       "      <td>2004-08-27</td>\n",
       "      <td>122.800003</td>\n",
       "      <td>122.800003</td>\n",
       "      <td>119.820000</td>\n",
       "      <td>120.332001</td>\n",
       "      <td>65.652962</td>\n",
       "      <td>30646000.0</td>\n",
       "    </tr>\n",
       "    <tr>\n",
       "      <th>3</th>\n",
       "      <td>2004-08-30</td>\n",
       "      <td>121.237999</td>\n",
       "      <td>123.750000</td>\n",
       "      <td>120.625000</td>\n",
       "      <td>123.345001</td>\n",
       "      <td>67.296806</td>\n",
       "      <td>24465208.0</td>\n",
       "    </tr>\n",
       "    <tr>\n",
       "      <th>4</th>\n",
       "      <td>2004-08-31</td>\n",
       "      <td>123.311996</td>\n",
       "      <td>123.750000</td>\n",
       "      <td>122.000000</td>\n",
       "      <td>123.512001</td>\n",
       "      <td>67.387932</td>\n",
       "      <td>21194656.0</td>\n",
       "    </tr>\n",
       "  </tbody>\n",
       "</table>\n",
       "</div>"
      ],
      "text/plain": [
       "         Date        Open        High         Low       Close  Adj Close  \\\n",
       "0  2004-08-25  149.837006  149.837006  122.375000  123.494003  67.378128   \n",
       "1  2004-08-26  124.000000  124.625000  121.912003  122.375000  66.767601   \n",
       "2  2004-08-27  122.800003  122.800003  119.820000  120.332001  65.652962   \n",
       "3  2004-08-30  121.237999  123.750000  120.625000  123.345001  67.296806   \n",
       "4  2004-08-31  123.311996  123.750000  122.000000  123.512001  67.387932   \n",
       "\n",
       "       Volume  \n",
       "0    136928.0  \n",
       "1  40443200.0  \n",
       "2  30646000.0  \n",
       "3  24465208.0  \n",
       "4  21194656.0  "
      ]
     },
     "execution_count": 64,
     "metadata": {},
     "output_type": "execute_result"
    }
   ],
   "source": [
    "data=pd.read_csv(\"tcs.csv\")\n",
    "#data.head()\n",
    "data=data.dropna()\n",
    "data.head()"
   ]
  },
  {
   "cell_type": "code",
   "execution_count": 65,
   "metadata": {},
   "outputs": [
    {
     "data": {
      "text/plain": [
       "(3530, 1)"
      ]
     },
     "execution_count": 65,
     "metadata": {},
     "output_type": "execute_result"
    }
   ],
   "source": [
    "df=data.iloc[:,[4]].values\n",
    "df.shape"
   ]
  },
  {
   "cell_type": "code",
   "execution_count": 68,
   "metadata": {},
   "outputs": [],
   "source": [
    "dmax=df.max()\n",
    "dmin=df.min()"
   ]
  },
  {
   "cell_type": "code",
   "execution_count": 26,
   "metadata": {},
   "outputs": [
    {
     "data": {
      "image/png": "[encoded data removed]",
      "text/plain": [
       "<Figure size 432x288 with 1 Axes>"
      ]
     },
     "metadata": {},
     "output_type": "display_data"
    }
   ],
   "source": [
    "plt.plot(df)\n",
    "plt.show()\n"
   ]
  },
  {
   "cell_type": "code",
   "execution_count": 63,
   "metadata": {},
   "outputs": [
    {
     "data": {
      "text/plain": [
       "<bound method BaseEstimator.get_params of MinMaxScaler(copy=True, feature_range=(0, 1))>"
      ]
     },
     "execution_count": 63,
     "metadata": {},
     "output_type": "execute_result"
    }
   ],
   "source": [
    "scaler = MinMaxScaler(feature_range=(0, 1))\n",
    "df = scaler.fit_transform(df)\n"
   ]
  },
  {
   "cell_type": "code",
   "execution_count": null,
   "metadata": {},
   "outputs": [],
   "source": []
  },
  {
   "cell_type": "code",
   "execution_count": 28,
   "metadata": {},
   "outputs": [
    {
     "data": {
      "text/plain": [
       "2824"
      ]
     },
     "execution_count": 28,
     "metadata": {},
     "output_type": "execute_result"
    }
   ],
   "source": [
    "train_size = int(len(df) * 0.80)\n",
    "test_size=int(len(df))-train_size\n",
    "train_size"
   ]
  },
  {
   "cell_type": "code",
   "execution_count": 29,
   "metadata": {},
   "outputs": [
    {
     "data": {
      "text/plain": [
       "706"
      ]
     },
     "execution_count": 29,
     "metadata": {},
     "output_type": "execute_result"
    }
   ],
   "source": [
    "test_size"
   ]
  },
  {
   "cell_type": "code",
   "execution_count": 30,
   "metadata": {},
   "outputs": [
    {
     "data": {
      "text/plain": [
       "(2824, 1)"
      ]
     },
     "execution_count": 30,
     "metadata": {},
     "output_type": "execute_result"
    }
   ],
   "source": [
    "train=df[0:train_size,:]\n",
    "train.shape\n"
   ]
  },
  {
   "cell_type": "code",
   "execution_count": 31,
   "metadata": {},
   "outputs": [
    {
     "data": {
      "text/plain": [
       "(706, 1)"
      ]
     },
     "execution_count": 31,
     "metadata": {},
     "output_type": "execute_result"
    }
   ],
   "source": [
    "test=df[train_size:len(df),:]\n",
    "test.shape"
   ]
  },
  {
   "cell_type": "code",
   "execution_count": null,
   "metadata": {},
   "outputs": [],
   "source": []
  },
  {
   "cell_type": "code",
   "execution_count": 32,
   "metadata": {},
   "outputs": [],
   "source": [
    "def create_dataset(dataset, look_back=1):\n",
    "\tdataX, dataY = [], []\n",
    "\tfor i in range(len(dataset)-look_back-1):\n",
    "\t\ta = dataset[i:(i+look_back), 0]\n",
    "\t\tdataX.append(a)\n",
    "\t\tdataY.append(dataset[i + look_back, 0])\n",
    "\treturn np.array(dataX), np.array(dataY)"
   ]
  },
  {
   "cell_type": "code",
   "execution_count": 33,
   "metadata": {},
   "outputs": [],
   "source": [
    "look_back=1\n",
    "trainX, trainY = create_dataset(train, look_back)\n",
    "testX, testY = create_dataset(test, look_back)"
   ]
  },
  {
   "cell_type": "code",
   "execution_count": 34,
   "metadata": {},
   "outputs": [
    {
     "name": "stdout",
     "output_type": "stream",
     "text": [
      "train- 2822 test- 2822\n"
     ]
    },
    {
     "data": {
      "text/plain": [
       "(2822, 1)"
      ]
     },
     "execution_count": 34,
     "metadata": {},
     "output_type": "execute_result"
    }
   ],
   "source": [
    "print(\"train-\",len(trainX),\"test-\",len(trainY))\n",
    "trainX.shape"
   ]
  },
  {
   "cell_type": "code",
   "execution_count": 35,
   "metadata": {},
   "outputs": [
    {
     "name": "stdout",
     "output_type": "stream",
     "text": [
      "train- 704 test- 704\n"
     ]
    }
   ],
   "source": [
    "print(\"train-\",len(testX),\"test-\",len(testY))"
   ]
  },
  {
   "cell_type": "code",
   "execution_count": 36,
   "metadata": {},
   "outputs": [],
   "source": [
    "\n",
    "trainX = np.reshape(trainX, (trainX.shape[0], 1, trainX.shape[1]))\n",
    "testX = np.reshape(testX, (testX.shape[0], 1, testX.shape[1]))"
   ]
  },
  {
   "cell_type": "code",
   "execution_count": 37,
   "metadata": {},
   "outputs": [
    {
     "name": "stdout",
     "output_type": "stream",
     "text": [
      "2822\n",
      "[[0.51278915]]\n"
     ]
    }
   ],
   "source": [
    "print(trainX.shape[0])\n",
    "print(testX[0])\n"
   ]
  },
  {
   "cell_type": "code",
   "execution_count": 38,
   "metadata": {},
   "outputs": [
    {
     "name": "stdout",
     "output_type": "stream",
     "text": [
      "compilation time :  0.01815509796142578\n",
      "_________________________________________________________________\n",
      "Layer (type)                 Output Shape              Param #   \n",
      "=================================================================\n",
      "lstm_3 (LSTM)                (None, 1, 50)             10400     \n",
      "_________________________________________________________________\n",
      "dropout_3 (Dropout)          (None, 1, 50)             0         \n",
      "_________________________________________________________________\n",
      "lstm_4 (LSTM)                (None, 100)               60400     \n",
      "_________________________________________________________________\n",
      "dropout_4 (Dropout)          (None, 100)               0         \n",
      "_________________________________________________________________\n",
      "dense_2 (Dense)              (None, 1)                 101       \n",
      "_________________________________________________________________\n",
      "activation_2 (Activation)    (None, 1)                 0         \n",
      "=================================================================\n",
      "Total params: 70,901\n",
      "Trainable params: 70,901\n",
      "Non-trainable params: 0\n",
      "_________________________________________________________________\n",
      "None\n"
     ]
    }
   ],
   "source": [
    "model = Sequential()\n",
    "\n",
    "model.add(LSTM(50,input_shape=(1,1),return_sequences=True))\n",
    "model.add(Dropout(0.2))\n",
    "\n",
    "model.add(LSTM(100,return_sequences=False))\n",
    "model.add(Dropout(0.2))\n",
    "\n",
    "model.add(Dense(1))\n",
    "model.add(Activation('linear'))\n",
    "\n",
    "start = time.time()\n",
    "model.compile(loss='mse', optimizer='rmsprop')\n",
    "print ('compilation time : ', time.time() - start)\n",
    "print(model.summary())"
   ]
  },
  {
   "cell_type": "code",
   "execution_count": 40,
   "metadata": {},
   "outputs": [
    {
     "name": "stdout",
     "output_type": "stream",
     "text": [
      "Train on 2680 samples, validate on 142 samples\n",
      "Epoch 1/100\n",
      "2680/2680 [==============================] - 0s 49us/step - loss: 3.0336e-04 - val_loss: 4.8536e-05\n",
      "Epoch 2/100\n",
      "2680/2680 [==============================] - 0s 39us/step - loss: 2.8316e-04 - val_loss: 1.0488e-04\n",
      "Epoch 3/100\n",
      "2680/2680 [==============================] - 0s 39us/step - loss: 2.9104e-04 - val_loss: 2.6865e-04\n",
      "Epoch 4/100\n",
      "2680/2680 [==============================] - 0s 40us/step - loss: 2.9881e-04 - val_loss: 5.0150e-05\n",
      "Epoch 5/100\n",
      "2680/2680 [==============================] - 0s 40us/step - loss: 2.8473e-04 - val_loss: 5.1043e-05\n",
      "Epoch 6/100\n",
      "2680/2680 [==============================] - 0s 41us/step - loss: 3.0572e-04 - val_loss: 5.0208e-05\n",
      "Epoch 7/100\n",
      "2680/2680 [==============================] - 0s 41us/step - loss: 2.8440e-04 - val_loss: 1.3824e-04\n",
      "Epoch 8/100\n",
      "2680/2680 [==============================] - 0s 42us/step - loss: 2.9220e-04 - val_loss: 5.0211e-05\n",
      "Epoch 9/100\n",
      "2680/2680 [==============================] - 0s 40us/step - loss: 2.7533e-04 - val_loss: 5.5115e-04\n",
      "Epoch 10/100\n",
      "2680/2680 [==============================] - 0s 42us/step - loss: 3.2244e-04 - val_loss: 1.8152e-04\n",
      "Epoch 11/100\n",
      "2680/2680 [==============================] - 0s 40us/step - loss: 2.8666e-04 - val_loss: 7.1609e-05\n",
      "Epoch 12/100\n",
      "2680/2680 [==============================] - 0s 43us/step - loss: 2.9906e-04 - val_loss: 4.9877e-05\n",
      "Epoch 13/100\n",
      "2680/2680 [==============================] - 0s 41us/step - loss: 2.9318e-04 - val_loss: 1.0389e-04\n",
      "Epoch 14/100\n",
      "2680/2680 [==============================] - 0s 40us/step - loss: 2.8838e-04 - val_loss: 5.7896e-05\n",
      "Epoch 15/100\n",
      "2680/2680 [==============================] - 0s 39us/step - loss: 3.0657e-04 - val_loss: 6.1112e-05\n",
      "Epoch 16/100\n",
      "2680/2680 [==============================] - 0s 41us/step - loss: 2.9959e-04 - val_loss: 7.2178e-05\n",
      "Epoch 17/100\n",
      "2680/2680 [==============================] - 0s 40us/step - loss: 2.9347e-04 - val_loss: 2.4970e-04\n",
      "Epoch 18/100\n",
      "2680/2680 [==============================] - 0s 42us/step - loss: 3.1028e-04 - val_loss: 1.3857e-04\n",
      "Epoch 19/100\n",
      "2680/2680 [==============================] - 0s 43us/step - loss: 2.7046e-04 - val_loss: 4.8563e-05\n",
      "Epoch 20/100\n",
      "2680/2680 [==============================] - 0s 41us/step - loss: 2.5857e-04 - val_loss: 3.5514e-04\n",
      "Epoch 21/100\n",
      "2680/2680 [==============================] - 0s 40us/step - loss: 2.6651e-04 - val_loss: 1.1959e-04\n",
      "Epoch 22/100\n",
      "2680/2680 [==============================] - 0s 43us/step - loss: 2.8399e-04 - val_loss: 2.0365e-04\n",
      "Epoch 23/100\n",
      "2680/2680 [==============================] - 0s 42us/step - loss: 2.9184e-04 - val_loss: 2.4915e-04\n",
      "Epoch 24/100\n",
      "2680/2680 [==============================] - 0s 41us/step - loss: 2.9707e-04 - val_loss: 5.3831e-05\n",
      "Epoch 25/100\n",
      "2680/2680 [==============================] - 0s 44us/step - loss: 2.8941e-04 - val_loss: 2.6172e-04\n",
      "Epoch 26/100\n",
      "2680/2680 [==============================] - 0s 40us/step - loss: 3.0086e-04 - val_loss: 1.4498e-04\n",
      "Epoch 27/100\n",
      "2680/2680 [==============================] - 0s 40us/step - loss: 2.8680e-04 - val_loss: 3.7643e-04\n",
      "Epoch 28/100\n",
      "2680/2680 [==============================] - 0s 43us/step - loss: 3.1533e-04 - val_loss: 8.8483e-05\n",
      "Epoch 29/100\n",
      "2680/2680 [==============================] - 0s 40us/step - loss: 2.7116e-04 - val_loss: 1.1033e-04\n",
      "Epoch 30/100\n",
      "2680/2680 [==============================] - 0s 41us/step - loss: 2.9048e-04 - val_loss: 4.2358e-04\n",
      "Epoch 31/100\n",
      "2680/2680 [==============================] - 0s 41us/step - loss: 2.9953e-04 - val_loss: 2.1965e-04\n",
      "Epoch 32/100\n",
      "2680/2680 [==============================] - 0s 48us/step - loss: 2.8043e-04 - val_loss: 5.5654e-05\n",
      "Epoch 33/100\n",
      "2680/2680 [==============================] - 0s 41us/step - loss: 2.9007e-04 - val_loss: 7.8010e-05\n",
      "Epoch 34/100\n",
      "2680/2680 [==============================] - 0s 58us/step - loss: 2.6774e-04 - val_loss: 3.0195e-04\n",
      "Epoch 35/100\n",
      "2680/2680 [==============================] - 0s 56us/step - loss: 2.9257e-04 - val_loss: 5.3604e-04\n",
      "Epoch 36/100\n",
      "2680/2680 [==============================] - 0s 45us/step - loss: 2.7499e-04 - val_loss: 1.5072e-04\n",
      "Epoch 37/100\n",
      "2680/2680 [==============================] - 0s 48us/step - loss: 2.9646e-04 - val_loss: 9.8786e-05\n",
      "Epoch 38/100\n",
      "2680/2680 [==============================] - 0s 57us/step - loss: 2.8436e-04 - val_loss: 2.4461e-04\n",
      "Epoch 39/100\n",
      "2680/2680 [==============================] - 0s 42us/step - loss: 2.8052e-04 - val_loss: 1.1545e-04\n",
      "Epoch 40/100\n",
      "2680/2680 [==============================] - 0s 40us/step - loss: 3.1186e-04 - val_loss: 9.6430e-05\n",
      "Epoch 41/100\n",
      "2680/2680 [==============================] - 0s 41us/step - loss: 2.6578e-04 - val_loss: 4.9507e-05\n",
      "Epoch 42/100\n",
      "2680/2680 [==============================] - 0s 42us/step - loss: 2.7435e-04 - val_loss: 7.4661e-05\n",
      "Epoch 43/100\n",
      "2680/2680 [==============================] - 0s 42us/step - loss: 2.8242e-04 - val_loss: 9.6934e-05\n",
      "Epoch 44/100\n",
      "2680/2680 [==============================] - 0s 45us/step - loss: 2.6623e-04 - val_loss: 2.6444e-04\n",
      "Epoch 45/100\n",
      "2680/2680 [==============================] - 0s 41us/step - loss: 3.0772e-04 - val_loss: 1.6657e-04\n",
      "Epoch 46/100\n",
      "2680/2680 [==============================] - 0s 55us/step - loss: 2.8721e-04 - val_loss: 5.9293e-05\n",
      "Epoch 47/100\n",
      "2680/2680 [==============================] - 0s 58us/step - loss: 2.7459e-04 - val_loss: 1.0451e-04\n",
      "Epoch 48/100\n",
      "2680/2680 [==============================] - 0s 48us/step - loss: 2.7662e-04 - val_loss: 3.3754e-04\n",
      "Epoch 49/100\n",
      "2680/2680 [==============================] - 0s 44us/step - loss: 2.7483e-04 - val_loss: 1.2594e-04\n",
      "Epoch 50/100\n",
      "2680/2680 [==============================] - 0s 57us/step - loss: 2.5978e-04 - val_loss: 4.8682e-05\n",
      "Epoch 51/100\n",
      "2680/2680 [==============================] - 0s 55us/step - loss: 2.7791e-04 - val_loss: 5.6730e-05\n",
      "Epoch 52/100\n",
      "2680/2680 [==============================] - 0s 39us/step - loss: 2.6903e-04 - val_loss: 7.0202e-05\n",
      "Epoch 53/100\n",
      "2680/2680 [==============================] - 0s 45us/step - loss: 2.5914e-04 - val_loss: 8.5899e-05\n",
      "Epoch 54/100\n",
      "2680/2680 [==============================] - 0s 51us/step - loss: 2.7478e-04 - val_loss: 2.3588e-04\n",
      "Epoch 55/100\n",
      "2680/2680 [==============================] - 0s 46us/step - loss: 2.8693e-04 - val_loss: 1.3137e-04\n",
      "Epoch 56/100\n",
      "2680/2680 [==============================] - 0s 40us/step - loss: 3.0602e-04 - val_loss: 5.4870e-05\n",
      "Epoch 57/100\n",
      "2680/2680 [==============================] - 0s 42us/step - loss: 2.9050e-04 - val_loss: 1.4423e-04\n",
      "Epoch 58/100\n",
      "2680/2680 [==============================] - 0s 40us/step - loss: 2.7092e-04 - val_loss: 1.6747e-04\n",
      "Epoch 59/100\n",
      "2680/2680 [==============================] - 0s 39us/step - loss: 2.7740e-04 - val_loss: 3.8856e-04\n",
      "Epoch 60/100\n",
      "2680/2680 [==============================] - 0s 40us/step - loss: 2.6799e-04 - val_loss: 1.8499e-04\n",
      "Epoch 61/100\n",
      "2680/2680 [==============================] - 0s 39us/step - loss: 2.6476e-04 - val_loss: 2.2629e-04\n",
      "Epoch 62/100\n",
      "2680/2680 [==============================] - 0s 39us/step - loss: 2.5270e-04 - val_loss: 1.7022e-04\n",
      "Epoch 63/100\n",
      "2680/2680 [==============================] - 0s 38us/step - loss: 2.5829e-04 - val_loss: 4.9642e-05\n",
      "Epoch 64/100\n",
      "2680/2680 [==============================] - 0s 43us/step - loss: 2.9486e-04 - val_loss: 7.6917e-05\n",
      "Epoch 65/100\n",
      "2680/2680 [==============================] - 0s 41us/step - loss: 2.5729e-04 - val_loss: 2.1466e-04\n",
      "Epoch 66/100\n",
      "2680/2680 [==============================] - 0s 40us/step - loss: 2.7632e-04 - val_loss: 4.8929e-05\n",
      "Epoch 67/100\n",
      "2680/2680 [==============================] - 0s 41us/step - loss: 2.4063e-04 - val_loss: 2.6428e-04\n",
      "Epoch 68/100\n",
      "2680/2680 [==============================] - 0s 43us/step - loss: 2.7942e-04 - val_loss: 4.8242e-04\n",
      "Epoch 69/100\n",
      "2680/2680 [==============================] - 0s 40us/step - loss: 2.6952e-04 - val_loss: 8.2469e-05\n",
      "Epoch 70/100\n",
      "2680/2680 [==============================] - 0s 41us/step - loss: 2.8252e-04 - val_loss: 1.0937e-04\n",
      "Epoch 71/100\n",
      "2680/2680 [==============================] - 0s 42us/step - loss: 2.9067e-04 - val_loss: 5.4719e-05\n",
      "Epoch 72/100\n",
      "2680/2680 [==============================] - 0s 42us/step - loss: 2.5046e-04 - val_loss: 8.5422e-05\n",
      "Epoch 73/100\n"
     ]
    },
    {
     "name": "stdout",
     "output_type": "stream",
     "text": [
      "2680/2680 [==============================] - 0s 47us/step - loss: 2.6788e-04 - val_loss: 1.6555e-04\n",
      "Epoch 74/100\n",
      "2680/2680 [==============================] - 0s 37us/step - loss: 2.4450e-04 - val_loss: 1.5602e-04\n",
      "Epoch 75/100\n",
      "2680/2680 [==============================] - 0s 38us/step - loss: 2.6127e-04 - val_loss: 5.4702e-05\n",
      "Epoch 76/100\n",
      "2680/2680 [==============================] - 0s 37us/step - loss: 2.6723e-04 - val_loss: 1.4560e-04\n",
      "Epoch 77/100\n",
      "2680/2680 [==============================] - 0s 38us/step - loss: 2.6953e-04 - val_loss: 4.9556e-05\n",
      "Epoch 78/100\n",
      "2680/2680 [==============================] - 0s 38us/step - loss: 2.6409e-04 - val_loss: 1.8875e-04\n",
      "Epoch 79/100\n",
      "2680/2680 [==============================] - 0s 37us/step - loss: 2.7361e-04 - val_loss: 1.6540e-04\n",
      "Epoch 80/100\n",
      "2680/2680 [==============================] - 0s 38us/step - loss: 2.8509e-04 - val_loss: 6.1859e-05\n",
      "Epoch 81/100\n",
      "2680/2680 [==============================] - 0s 36us/step - loss: 2.5393e-04 - val_loss: 1.0100e-04\n",
      "Epoch 82/100\n",
      "2680/2680 [==============================] - 0s 38us/step - loss: 2.7537e-04 - val_loss: 4.8503e-04\n",
      "Epoch 83/100\n",
      "2680/2680 [==============================] - 0s 37us/step - loss: 2.7151e-04 - val_loss: 5.2166e-05\n",
      "Epoch 84/100\n",
      "2680/2680 [==============================] - 0s 36us/step - loss: 2.8131e-04 - val_loss: 1.9565e-04\n",
      "Epoch 85/100\n",
      "2680/2680 [==============================] - 0s 37us/step - loss: 2.5209e-04 - val_loss: 1.1260e-04\n",
      "Epoch 86/100\n",
      "2680/2680 [==============================] - 0s 39us/step - loss: 2.7570e-04 - val_loss: 8.5492e-05\n",
      "Epoch 87/100\n",
      "2680/2680 [==============================] - 0s 36us/step - loss: 2.7724e-04 - val_loss: 5.3094e-05\n",
      "Epoch 88/100\n",
      "2680/2680 [==============================] - 0s 39us/step - loss: 2.5129e-04 - val_loss: 1.6088e-04\n",
      "Epoch 89/100\n",
      "2680/2680 [==============================] - 0s 39us/step - loss: 2.7392e-04 - val_loss: 5.7093e-05\n",
      "Epoch 90/100\n",
      "2680/2680 [==============================] - 0s 37us/step - loss: 2.6322e-04 - val_loss: 1.0221e-04\n",
      "Epoch 91/100\n",
      "2680/2680 [==============================] - 0s 40us/step - loss: 2.6346e-04 - val_loss: 8.0878e-05\n",
      "Epoch 92/100\n",
      "2680/2680 [==============================] - 0s 37us/step - loss: 2.5984e-04 - val_loss: 5.2858e-05\n",
      "Epoch 93/100\n",
      "2680/2680 [==============================] - 0s 37us/step - loss: 2.4653e-04 - val_loss: 4.8469e-05\n",
      "Epoch 94/100\n",
      "2680/2680 [==============================] - 0s 39us/step - loss: 3.0605e-04 - val_loss: 2.7926e-04\n",
      "Epoch 95/100\n",
      "2680/2680 [==============================] - 0s 39us/step - loss: 2.5664e-04 - val_loss: 1.7775e-04\n",
      "Epoch 96/100\n",
      "2680/2680 [==============================] - 0s 37us/step - loss: 2.5662e-04 - val_loss: 1.2060e-04\n",
      "Epoch 97/100\n",
      "2680/2680 [==============================] - 0s 38us/step - loss: 2.7921e-04 - val_loss: 5.4559e-05\n",
      "Epoch 98/100\n",
      "2680/2680 [==============================] - 0s 38us/step - loss: 2.7372e-04 - val_loss: 1.0913e-04\n",
      "Epoch 99/100\n",
      "2680/2680 [==============================] - 0s 40us/step - loss: 2.5538e-04 - val_loss: 2.5419e-04\n",
      "Epoch 100/100\n",
      "2680/2680 [==============================] - 0s 38us/step - loss: 2.6582e-04 - val_loss: 1.4359e-04\n",
      "Training-time:::--- 11.2820463180542\n"
     ]
    }
   ],
   "source": [
    "start = time.time()\n",
    "model.fit(trainX,trainY,batch_size=128,epochs=100,validation_split=0.05)\n",
    "end = time.time()\n",
    "print(\"Training-time:::---\",end-start)"
   ]
  },
  {
   "cell_type": "code",
   "execution_count": 41,
   "metadata": {},
   "outputs": [],
   "source": [
    "trainPredict = model.predict(trainX)\n",
    "testPredict = model.predict(testX)"
   ]
  },
  {
   "cell_type": "code",
   "execution_count": 44,
   "metadata": {},
   "outputs": [
    {
     "data": {
      "text/plain": [
       "(2822, 1)"
      ]
     },
     "execution_count": 44,
     "metadata": {},
     "output_type": "execute_result"
    }
   ],
   "source": [
    "trainPredict.shape"
   ]
  },
  {
   "cell_type": "code",
   "execution_count": 42,
   "metadata": {},
   "outputs": [],
   "source": [
    "trainPredict = scaler.inverse_transform(trainPredict)\n",
    "trainY = scaler.inverse_transform([trainY])\n",
    "testPredict = scaler.inverse_transform(testPredict)\n",
    "testY = scaler.inverse_transform([testY])"
   ]
  },
  {
   "cell_type": "code",
   "execution_count": 47,
   "metadata": {},
   "outputs": [
    {
     "data": {
      "image/png": "[encoded data removed]",
      "text/plain": [
       "<Figure size 432x288 with 1 Axes>"
      ]
     },
     "metadata": {},
     "output_type": "display_data"
    }
   ],
   "source": [
    "\n",
    "# shift train predictions for plotting\n",
    "trainPredictPlot = np.empty_like(df)\n",
    "trainPredictPlot[:, :] = np.nan\n",
    "trainPredictPlot[look_back:len(trainPredict)+look_back, :] = trainPredict\n",
    "# shift test predictions for plotting\n",
    "testPredictPlot = np.empty_like(df)\n",
    "testPredictPlot[:, :] = np.nan\n",
    "testPredictPlot[len(trainPredict)+(look_back*2)+1:len(df)-1, :] = testPredict\n",
    "# plot baseline and predictions\n",
    "plt.plot(scaler.inverse_transform(df))\n",
    "#plt.plot(trainPredictPlot)\n",
    "plt.plot(testPredictPlot)\n",
    "plt.show()\n"
   ]
  },
  {
   "cell_type": "code",
   "execution_count": 80,
   "metadata": {},
   "outputs": [],
   "source": [
    "#predict single value\n",
    "\n",
    "a=1989.75\n",
    "\n",
    "a1=(a-dmin)/(dmax-dmin)\n",
    "a2=np.array([[[a1]]])\n",
    "\n",
    "pred=model.predict(a2)\n",
    "\n",
    "a3=pred[0][0]\n",
    "\n",
    "a4=a3*(dmax-dmin)+dmin"
   ]
  },
  {
   "cell_type": "code",
   "execution_count": 81,
   "metadata": {},
   "outputs": [
    {
     "data": {
      "text/plain": [
       "1966.990169227951"
      ]
     },
     "execution_count": 81,
     "metadata": {},
     "output_type": "execute_result"
    }
   ],
   "source": [
    "a4\n"
   ]
  },
  {
   "cell_type": "code",
   "execution_count": null,
   "metadata": {},
   "outputs": [],
   "source": []
  }
 ],
 "metadata": {
  "kernelspec": {
   "display_name": "Python 3",
   "language": "python",
   "name": "python3"
  },
  "language_info": {
   "codemirror_mode": {
    "name": "ipython",
    "version": 3
   },
   "file_extension": ".py",
   "mimetype": "text/x-python",
   "name": "python",
   "nbconvert_exporter": "python",
   "pygments_lexer": "ipython3",
   "version": "3.6.5"
  }
 },
 "nbformat": 4,
 "nbformat_minor": 2
}
