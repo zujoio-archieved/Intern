{
 "cells": [
  {
   "cell_type": "code",
   "execution_count": 28,
   "metadata": {},
   "outputs": [],
   "source": [
    "import numpy as np\n",
    "import numpy.linalg as la"
   ]
  },
  {
   "cell_type": "markdown",
   "metadata": {},
   "source": [
    "# One-D Array"
   ]
  },
  {
   "cell_type": "code",
   "execution_count": 24,
   "metadata": {},
   "outputs": [
    {
     "data": {
      "text/plain": [
       "array([1, 2, 3])"
      ]
     },
     "execution_count": 24,
     "metadata": {},
     "output_type": "execute_result"
    }
   ],
   "source": [
    "x = np.array([1,2,3])\n",
    "x"
   ]
  },
  {
   "cell_type": "markdown",
   "metadata": {},
   "source": [
    "# Two-D Array"
   ]
  },
  {
   "cell_type": "code",
   "execution_count": 30,
   "metadata": {},
   "outputs": [
    {
     "data": {
      "text/plain": [
       "-2.0000000000000004"
      ]
     },
     "execution_count": 30,
     "metadata": {},
     "output_type": "execute_result"
    }
   ],
   "source": [
    "y = np.array([[1,2,3],[4,5,6]])\n",
    "y.T\n",
    "x=np.array([[1,2],[3,4]])\n",
    "la.det(x)"
   ]
  },
  {
   "cell_type": "markdown",
   "metadata": {},
   "source": [
    "# Three-D Array"
   ]
  },
  {
   "cell_type": "code",
   "execution_count": 120,
   "metadata": {},
   "outputs": [
    {
     "data": {
      "text/plain": [
       "array([[[ 1,  2,  3],\n",
       "        [ 4,  5,  6]],\n",
       "\n",
       "       [[-1, -2, -3],\n",
       "        [-4, -5, -6]]])"
      ]
     },
     "execution_count": 120,
     "metadata": {},
     "output_type": "execute_result"
    }
   ],
   "source": [
    "z = np.array([[[1,2,3],[4,5,6]],[[-1,-2,-3],[-4,-5,-6]]])\n",
    "z"
   ]
  },
  {
   "cell_type": "markdown",
   "metadata": {},
   "source": [
    "# Properties of N-D Array"
   ]
  },
  {
   "cell_type": "code",
   "execution_count": null,
   "metadata": {},
   "outputs": [],
   "source": [
    "print(z)\n",
    "print(z.shape)\n",
    "print(z.ndim)\n",
    "print(z.dtype)\n",
    "print(z.size)\n",
    "print(z.nbytes)\n",
    "a = np.transpose(z,(0,2,1))\n",
    "print(a)\n",
    "a = np.transpose(a,(1,0,2))\n",
    "print(a)\n",
    "b = np.transpose(z,(2,1,0))\n",
    "print(b)\n",
    "print(z.T)"
   ]
  },
  {
   "cell_type": "markdown",
   "metadata": {},
   "source": [
    "# Numpy Constant"
   ]
  },
  {
   "cell_type": "code",
   "execution_count": null,
   "metadata": {},
   "outputs": [],
   "source": [
    "print(np.inf)\n",
    "print(np.NINF)\n",
    "print(np.NAN)\n",
    "print(np.NZERO)\n",
    "print(np.PZERO)\n",
    "\n",
    "print(np.e)\n",
    "print(np.euler_gamma)\n",
    "print(np.pi)"
   ]
  },
  {
   "cell_type": "markdown",
   "metadata": {},
   "source": [
    "# Ones and Zeros"
   ]
  },
  {
   "cell_type": "code",
   "execution_count": 130,
   "metadata": {},
   "outputs": [
    {
     "data": {
      "text/plain": [
       "array([[ 8805,  8762, 30821],\n",
       "       [25445, 29813, 24421],\n",
       "       [25970, 30065, 29541]], dtype=uint16)"
      ]
     },
     "execution_count": 130,
     "metadata": {},
     "output_type": "execute_result"
    }
   ],
   "source": [
    "x = np.empty([3,3],np.uint16)\n",
    "x"
   ]
  },
  {
   "cell_type": "code",
   "execution_count": 109,
   "metadata": {},
   "outputs": [
    {
     "data": {
      "text/plain": [
       "array([[1, 0, 0, 0, 0],\n",
       "       [0, 1, 0, 0, 0],\n",
       "       [0, 0, 1, 0, 0],\n",
       "       [0, 0, 0, 1, 0],\n",
       "       [0, 0, 0, 0, 1]], dtype=uint8)"
      ]
     },
     "execution_count": 109,
     "metadata": {},
     "output_type": "execute_result"
    }
   ],
   "source": [
    "x = np.eye(5,dtype=np.uint8)\n",
    "x"
   ]
  },
  {
   "cell_type": "code",
   "execution_count": 113,
   "metadata": {},
   "outputs": [
    {
     "data": {
      "text/plain": [
       "array([[0, 1, 0, 0, 0],\n",
       "       [0, 0, 1, 0, 0],\n",
       "       [0, 0, 0, 1, 0],\n",
       "       [0, 0, 0, 0, 1],\n",
       "       [0, 0, 0, 0, 0]], dtype=uint8)"
      ]
     },
     "execution_count": 113,
     "metadata": {},
     "output_type": "execute_result"
    }
   ],
   "source": [
    "x=np.eye(5,dtype=np.uint8,k=1)\n",
    "x"
   ]
  },
  {
   "cell_type": "code",
   "execution_count": 117,
   "metadata": {},
   "outputs": [
    {
     "data": {
      "text/plain": [
       "array([[1, 0, 0, 0, 0],\n",
       "       [0, 1, 0, 0, 0],\n",
       "       [0, 0, 1, 0, 0],\n",
       "       [0, 0, 0, 1, 0],\n",
       "       [0, 0, 0, 0, 1]], dtype=uint8)"
      ]
     },
     "execution_count": 117,
     "metadata": {},
     "output_type": "execute_result"
    }
   ],
   "source": [
    "x=np.identity(5,dtype=np.uint8)\n",
    "x"
   ]
  },
  {
   "cell_type": "code",
   "execution_count": 126,
   "metadata": {},
   "outputs": [
    {
     "data": {
      "text/plain": [
       "array([[[1, 1, 1],\n",
       "        [1, 1, 1],\n",
       "        [1, 1, 1]],\n",
       "\n",
       "       [[1, 1, 1],\n",
       "        [1, 1, 1],\n",
       "        [1, 1, 1]],\n",
       "\n",
       "       [[1, 1, 1],\n",
       "        [1, 1, 1],\n",
       "        [1, 1, 1]]], dtype=uint8)"
      ]
     },
     "execution_count": 126,
     "metadata": {},
     "output_type": "execute_result"
    }
   ],
   "source": [
    "x=np.ones([3,3,3],dtype=np.uint8)\n",
    "x"
   ]
  },
  {
   "cell_type": "code",
   "execution_count": 122,
   "metadata": {},
   "outputs": [
    {
     "data": {
      "text/plain": [
       "array([[0, 0, 0, 0, 0],\n",
       "       [0, 0, 0, 0, 0],\n",
       "       [0, 0, 0, 0, 0],\n",
       "       [0, 0, 0, 0, 0],\n",
       "       [0, 0, 0, 0, 0]], dtype=uint8)"
      ]
     },
     "execution_count": 122,
     "metadata": {},
     "output_type": "execute_result"
    }
   ],
   "source": [
    "x=np.zeros([5,5],dtype=np.uint8)\n",
    "x"
   ]
  },
  {
   "cell_type": "code",
   "execution_count": 131,
   "metadata": {},
   "outputs": [
    {
     "data": {
      "text/plain": [
       "array([[10, 10, 10, 10, 10],\n",
       "       [10, 10, 10, 10, 10],\n",
       "       [10, 10, 10, 10, 10],\n",
       "       [10, 10, 10, 10, 10],\n",
       "       [10, 10, 10, 10, 10]], dtype=uint8)"
      ]
     },
     "execution_count": 131,
     "metadata": {},
     "output_type": "execute_result"
    }
   ],
   "source": [
    "x=np.full((5,5),dtype=np.uint8,fill_value=10)\n",
    "x"
   ]
  },
  {
   "cell_type": "markdown",
   "metadata": {},
   "source": [
    "# Matrix Creation Routines"
   ]
  },
  {
   "cell_type": "code",
   "execution_count": 5,
   "metadata": {},
   "outputs": [
    {
     "name": "stdout",
     "output_type": "stream",
     "text": [
      "[[0 0 0 0 0]\n",
      " [1 0 0 0 0]\n",
      " [1 1 0 0 0]\n",
      " [1 1 1 0 0]\n",
      " [1 1 1 1 0]]\n"
     ]
    }
   ],
   "source": [
    "x = np.tri(5,5,k=-1,dtype=np.uint16)\n",
    "print(x)"
   ]
  },
  {
   "cell_type": "code",
   "execution_count": 9,
   "metadata": {},
   "outputs": [
    {
     "name": "stdout",
     "output_type": "stream",
     "text": [
      "[[0 0 0 0 0]\n",
      " [1 0 0 0 0]\n",
      " [1 1 0 0 0]\n",
      " [1 1 1 0 0]\n",
      " [1 1 1 1 0]]\n"
     ]
    }
   ],
   "source": [
    "x = np.ones((5,5),dtype=np.uint16)\n",
    "y = np.tril(x,k=-1)\n",
    "print(y)"
   ]
  },
  {
   "cell_type": "code",
   "execution_count": 31,
   "metadata": {},
   "outputs": [
    {
     "name": "stdout",
     "output_type": "stream",
     "text": [
      "[[0 1 1 1 1]\n",
      " [0 0 1 1 1]\n",
      " [0 0 0 1 1]\n",
      " [0 0 0 0 1]\n",
      " [0 0 0 0 0]]\n"
     ]
    }
   ],
   "source": [
    "x = np.ones((5,5),dtype=np.uint16)\n",
    "y=np.triu(x,k=1)\n",
    "print(y)"
   ]
  },
  {
   "cell_type": "code",
   "execution_count": 121,
   "metadata": {},
   "outputs": [
    {
     "name": "stdout",
     "output_type": "stream",
     "text": [
      "-2.0000000000000004\n",
      "[[-2.   1. ]\n",
      " [ 1.5 -0.5]]\n",
      "[[1. 0.]\n",
      " [0. 1.]]\n",
      "(array([-0.37228132,  5.37228132]), array([[-0.82456484, -0.41597356],\n",
      "       [ 0.56576746, -0.90937671]]))\n"
     ]
    }
   ],
   "source": [
    "x = np.array([[1,2],[3,4]],np.uint8)\n",
    "print(la.det(x))\n",
    "print(la.inv(x))\n",
    "print(np.round(np.dot(x,la.inv(x))))\n",
    "print(la.eig(x))"
   ]
  },
  {
   "cell_type": "markdown",
   "metadata": {},
   "source": [
    "# Random"
   ]
  },
  {
   "cell_type": "code",
   "execution_count": 127,
   "metadata": {},
   "outputs": [
    {
     "name": "stdout",
     "output_type": "stream",
     "text": [
      "[-1.16313579  0.65203935  0.34310496  0.10420682]\n"
     ]
    }
   ],
   "source": [
    "x = np.random.normal(size=4)  #radnom.normal/uniform\n",
    "print(x)"
   ]
  },
  {
   "cell_type": "code",
   "execution_count": 129,
   "metadata": {},
   "outputs": [
    {
     "name": "stdout",
     "output_type": "stream",
     "text": [
      "[3 9 6 4 9]\n"
     ]
    }
   ],
   "source": [
    "x = np.random.randint(low = 1,high = 10, size = 5)\n",
    "print(x)"
   ]
  },
  {
   "cell_type": "code",
   "execution_count": 226,
   "metadata": {},
   "outputs": [
    {
     "name": "stdout",
     "output_type": "stream",
     "text": [
      "[[6.40770767e-02 7.79456408e-01 6.43661935e-01]\n",
      " [5.99565061e-01 7.71709345e-01 8.90591916e-01]\n",
      " [1.09402397e-02 1.34114576e-04 6.55436674e-01]]\n"
     ]
    }
   ],
   "source": [
    "x = np.random.rand(3,3)\n",
    "print(x)"
   ]
  },
  {
   "cell_type": "code",
   "execution_count": 228,
   "metadata": {},
   "outputs": [
    {
     "name": "stdout",
     "output_type": "stream",
     "text": [
      "[ 1.84850705 -0.63264193  0.44984268 -3.46749593 -3.2234627   0.40363955\n",
      " -2.34372868  1.66437535  1.38443796  0.99729357]\n"
     ]
    }
   ],
   "source": [
    "x = np.random.normal(0,2,10)\n",
    "print(x)"
   ]
  },
  {
   "cell_type": "markdown",
   "metadata": {},
   "source": [
    "# Array Manipulation Routines"
   ]
  },
  {
   "cell_type": "code",
   "execution_count": 133,
   "metadata": {},
   "outputs": [
    {
     "name": "stdout",
     "output_type": "stream",
     "text": [
      "[0 1 2 3 4 5]\n"
     ]
    }
   ],
   "source": [
    "x = np.arange(6)\n",
    "print(x)"
   ]
  },
  {
   "cell_type": "code",
   "execution_count": 141,
   "metadata": {},
   "outputs": [
    {
     "name": "stdout",
     "output_type": "stream",
     "text": [
      "[[1 2]\n",
      " [3 4]\n",
      " [5 6]]\n"
     ]
    }
   ],
   "source": [
    "y = x.reshape((3,2))    # or you can do with other syntax y = np.reshape(x,(3,2))\n",
    "print(y)"
   ]
  },
  {
   "cell_type": "code",
   "execution_count": 137,
   "metadata": {},
   "outputs": [
    {
     "name": "stdout",
     "output_type": "stream",
     "text": [
      "[[1 2 3]\n",
      " [4 5 6]]\n"
     ]
    }
   ],
   "source": [
    "x = np.array([[1,2,3],[4,5,6]],np.uint8)\n",
    "print(x)"
   ]
  },
  {
   "cell_type": "code",
   "execution_count": 143,
   "metadata": {},
   "outputs": [
    {
     "name": "stdout",
     "output_type": "stream",
     "text": [
      "[1 2 3 4 5 6]\n"
     ]
    }
   ],
   "source": [
    "y = np.reshape(x,6)\n",
    "print(y)"
   ]
  },
  {
   "cell_type": "code",
   "execution_count": 170,
   "metadata": {},
   "outputs": [
    {
     "name": "stdout",
     "output_type": "stream",
     "text": [
      "[1 2 3 4 5 6]\n"
     ]
    }
   ],
   "source": [
    "y = x.ravel()  # other syntax np.racel(x)\n",
    "print(y)"
   ]
  },
  {
   "cell_type": "code",
   "execution_count": 152,
   "metadata": {},
   "outputs": [
    {
     "name": "stdout",
     "output_type": "stream",
     "text": [
      "[1 2 3 4 5 6]\n"
     ]
    }
   ],
   "source": [
    "y = x.flatten('C')\n",
    "print(y)"
   ]
  },
  {
   "cell_type": "code",
   "execution_count": 171,
   "metadata": {},
   "outputs": [
    {
     "name": "stdout",
     "output_type": "stream",
     "text": [
      "[1 4 2 5 3 6]\n"
     ]
    }
   ],
   "source": [
    "y = x.flatten('F')\n",
    "print(y)"
   ]
  },
  {
   "cell_type": "code",
   "execution_count": 176,
   "metadata": {},
   "outputs": [
    {
     "name": "stdout",
     "output_type": "stream",
     "text": [
      "[[1 2 3]\n",
      " [4 5 6]]\n"
     ]
    }
   ],
   "source": [
    "x = np.array([1,2,3],np.uint8)\n",
    "y = np.array([4,5,6],np.uint8)\n",
    "z = np.stack((x,y))\n",
    "print(z)"
   ]
  },
  {
   "cell_type": "code",
   "execution_count": 179,
   "metadata": {},
   "outputs": [
    {
     "name": "stdout",
     "output_type": "stream",
     "text": [
      "[[1 2 3]\n",
      " [4 5 6]]\n"
     ]
    }
   ],
   "source": [
    "z= np.stack((x,y),axis=0)\n",
    "print(z)"
   ]
  },
  {
   "cell_type": "code",
   "execution_count": 181,
   "metadata": {},
   "outputs": [
    {
     "name": "stdout",
     "output_type": "stream",
     "text": [
      "[[1 4]\n",
      " [2 5]\n",
      " [3 6]]\n"
     ]
    }
   ],
   "source": [
    "z= np.stack((x,y),axis=1)  # for axis = -1 it will give the same output\n",
    "print(z)"
   ]
  },
  {
   "cell_type": "code",
   "execution_count": 183,
   "metadata": {},
   "outputs": [
    {
     "name": "stdout",
     "output_type": "stream",
     "text": [
      "[[[1 4]\n",
      "  [2 5]\n",
      "  [3 6]]]\n"
     ]
    }
   ],
   "source": [
    "z = np.dstack((x,y))\n",
    "print(z)"
   ]
  },
  {
   "cell_type": "code",
   "execution_count": 185,
   "metadata": {},
   "outputs": [
    {
     "name": "stdout",
     "output_type": "stream",
     "text": [
      "[1 2 3 4 5 6]\n"
     ]
    }
   ],
   "source": [
    "z = np.hstack((x,y))\n",
    "print(z)"
   ]
  },
  {
   "cell_type": "code",
   "execution_count": 187,
   "metadata": {},
   "outputs": [
    {
     "name": "stdout",
     "output_type": "stream",
     "text": [
      "[[1 2 3]\n",
      " [4 5 6]]\n"
     ]
    }
   ],
   "source": [
    "z = np.vstack((x,y))\n",
    "print(z)"
   ]
  },
  {
   "cell_type": "code",
   "execution_count": 194,
   "metadata": {},
   "outputs": [
    {
     "name": "stdout",
     "output_type": "stream",
     "text": [
      "[0 1 2 3 4 5 6 7 8]\n"
     ]
    }
   ],
   "source": [
    "x = np.arange(9)\n",
    "print(x)"
   ]
  },
  {
   "cell_type": "code",
   "execution_count": 197,
   "metadata": {},
   "outputs": [
    {
     "name": "stdout",
     "output_type": "stream",
     "text": [
      "[0 1 2]\n",
      "[3 4 5]\n",
      "[6 7 8]\n"
     ]
    }
   ],
   "source": [
    "a,b,c = np.split(x,3)\n",
    "print(a)\n",
    "print(b)\n",
    "print(c)"
   ]
  },
  {
   "cell_type": "code",
   "execution_count": 232,
   "metadata": {},
   "outputs": [
    {
     "name": "stdout",
     "output_type": "stream",
     "text": [
      "[[[0.5751142  0.97912233 0.93256729 0.18172034]\n",
      "  [0.5564332  0.59162577 0.9294581  0.38454236]\n",
      "  [0.62499918 0.10851299 0.83121866 0.45613941]\n",
      "  [0.17952721 0.47913767 0.89873026 0.34462523]]\n",
      "\n",
      " [[0.91726177 0.01036594 0.6459295  0.84001229]\n",
      "  [0.71497769 0.85665516 0.85462264 0.20167321]\n",
      "  [0.02860571 0.01699557 0.9816342  0.88939763]\n",
      "  [0.60690178 0.9698497  0.99770709 0.31927425]]\n",
      "\n",
      " [[0.60484186 0.43502748 0.13859491 0.00628637]\n",
      "  [0.15159298 0.25986192 0.16676358 0.11380128]\n",
      "  [0.82142181 0.8921145  0.30563692 0.68065345]\n",
      "  [0.56686112 0.63545784 0.50748191 0.95516412]]\n",
      "\n",
      " [[0.61579189 0.41850701 0.6426856  0.45839306]\n",
      "  [0.06968443 0.01902491 0.37600027 0.88664314]\n",
      "  [0.45929152 0.12146519 0.23087077 0.25836046]\n",
      "  [0.91518702 0.53411372 0.57493867 0.22082032]]]\n"
     ]
    }
   ],
   "source": [
    "x = np.random.rand(4,4,4)\n",
    "print(x)"
   ]
  },
  {
   "cell_type": "code",
   "execution_count": 233,
   "metadata": {},
   "outputs": [
    {
     "name": "stdout",
     "output_type": "stream",
     "text": [
      "[[[0.5751142  0.97912233 0.93256729 0.18172034]\n",
      "  [0.5564332  0.59162577 0.9294581  0.38454236]\n",
      "  [0.62499918 0.10851299 0.83121866 0.45613941]\n",
      "  [0.17952721 0.47913767 0.89873026 0.34462523]]\n",
      "\n",
      " [[0.91726177 0.01036594 0.6459295  0.84001229]\n",
      "  [0.71497769 0.85665516 0.85462264 0.20167321]\n",
      "  [0.02860571 0.01699557 0.9816342  0.88939763]\n",
      "  [0.60690178 0.9698497  0.99770709 0.31927425]]]\n",
      "[[[0.60484186 0.43502748 0.13859491 0.00628637]\n",
      "  [0.15159298 0.25986192 0.16676358 0.11380128]\n",
      "  [0.82142181 0.8921145  0.30563692 0.68065345]\n",
      "  [0.56686112 0.63545784 0.50748191 0.95516412]]\n",
      "\n",
      " [[0.61579189 0.41850701 0.6426856  0.45839306]\n",
      "  [0.06968443 0.01902491 0.37600027 0.88664314]\n",
      "  [0.45929152 0.12146519 0.23087077 0.25836046]\n",
      "  [0.91518702 0.53411372 0.57493867 0.22082032]]]\n",
      "(2, 4, 4)\n"
     ]
    }
   ],
   "source": [
    "a,b = np.split(x,2)\n",
    "print(a)\n",
    "print(b)\n",
    "print(a.shape)"
   ]
  },
  {
   "cell_type": "code",
   "execution_count": 234,
   "metadata": {},
   "outputs": [
    {
     "name": "stdout",
     "output_type": "stream",
     "text": [
      "[[[0.5751142  0.97912233 0.93256729 0.18172034]\n",
      "  [0.5564332  0.59162577 0.9294581  0.38454236]\n",
      "  [0.62499918 0.10851299 0.83121866 0.45613941]\n",
      "  [0.17952721 0.47913767 0.89873026 0.34462523]]\n",
      "\n",
      " [[0.91726177 0.01036594 0.6459295  0.84001229]\n",
      "  [0.71497769 0.85665516 0.85462264 0.20167321]\n",
      "  [0.02860571 0.01699557 0.9816342  0.88939763]\n",
      "  [0.60690178 0.9698497  0.99770709 0.31927425]]]\n",
      "[[[0.60484186 0.43502748 0.13859491 0.00628637]\n",
      "  [0.15159298 0.25986192 0.16676358 0.11380128]\n",
      "  [0.82142181 0.8921145  0.30563692 0.68065345]\n",
      "  [0.56686112 0.63545784 0.50748191 0.95516412]]\n",
      "\n",
      " [[0.61579189 0.41850701 0.6426856  0.45839306]\n",
      "  [0.06968443 0.01902491 0.37600027 0.88664314]\n",
      "  [0.45929152 0.12146519 0.23087077 0.25836046]\n",
      "  [0.91518702 0.53411372 0.57493867 0.22082032]]]\n",
      "(2, 4, 4)\n"
     ]
    }
   ],
   "source": [
    "a,b = np.vsplit(x,2)\n",
    "print(a)\n",
    "print(b)\n",
    "print(a.shape)"
   ]
  },
  {
   "cell_type": "code",
   "execution_count": 235,
   "metadata": {},
   "outputs": [
    {
     "name": "stdout",
     "output_type": "stream",
     "text": [
      "[[[0.5751142  0.97912233 0.93256729 0.18172034]\n",
      "  [0.5564332  0.59162577 0.9294581  0.38454236]]\n",
      "\n",
      " [[0.91726177 0.01036594 0.6459295  0.84001229]\n",
      "  [0.71497769 0.85665516 0.85462264 0.20167321]]\n",
      "\n",
      " [[0.60484186 0.43502748 0.13859491 0.00628637]\n",
      "  [0.15159298 0.25986192 0.16676358 0.11380128]]\n",
      "\n",
      " [[0.61579189 0.41850701 0.6426856  0.45839306]\n",
      "  [0.06968443 0.01902491 0.37600027 0.88664314]]]\n",
      "[[[0.62499918 0.10851299 0.83121866 0.45613941]\n",
      "  [0.17952721 0.47913767 0.89873026 0.34462523]]\n",
      "\n",
      " [[0.02860571 0.01699557 0.9816342  0.88939763]\n",
      "  [0.60690178 0.9698497  0.99770709 0.31927425]]\n",
      "\n",
      " [[0.82142181 0.8921145  0.30563692 0.68065345]\n",
      "  [0.56686112 0.63545784 0.50748191 0.95516412]]\n",
      "\n",
      " [[0.45929152 0.12146519 0.23087077 0.25836046]\n",
      "  [0.91518702 0.53411372 0.57493867 0.22082032]]]\n",
      "(4, 2, 4)\n"
     ]
    }
   ],
   "source": [
    "a,b = np.hsplit(x,2)\n",
    "print(a)\n",
    "print(b)\n",
    "print(a.shape)"
   ]
  },
  {
   "cell_type": "code",
   "execution_count": 236,
   "metadata": {},
   "outputs": [
    {
     "name": "stdout",
     "output_type": "stream",
     "text": [
      "[[[0.5751142  0.97912233]\n",
      "  [0.5564332  0.59162577]\n",
      "  [0.62499918 0.10851299]\n",
      "  [0.17952721 0.47913767]]\n",
      "\n",
      " [[0.91726177 0.01036594]\n",
      "  [0.71497769 0.85665516]\n",
      "  [0.02860571 0.01699557]\n",
      "  [0.60690178 0.9698497 ]]\n",
      "\n",
      " [[0.60484186 0.43502748]\n",
      "  [0.15159298 0.25986192]\n",
      "  [0.82142181 0.8921145 ]\n",
      "  [0.56686112 0.63545784]]\n",
      "\n",
      " [[0.61579189 0.41850701]\n",
      "  [0.06968443 0.01902491]\n",
      "  [0.45929152 0.12146519]\n",
      "  [0.91518702 0.53411372]]]\n",
      "[[[0.93256729 0.18172034]\n",
      "  [0.9294581  0.38454236]\n",
      "  [0.83121866 0.45613941]\n",
      "  [0.89873026 0.34462523]]\n",
      "\n",
      " [[0.6459295  0.84001229]\n",
      "  [0.85462264 0.20167321]\n",
      "  [0.9816342  0.88939763]\n",
      "  [0.99770709 0.31927425]]\n",
      "\n",
      " [[0.13859491 0.00628637]\n",
      "  [0.16676358 0.11380128]\n",
      "  [0.30563692 0.68065345]\n",
      "  [0.50748191 0.95516412]]\n",
      "\n",
      " [[0.6426856  0.45839306]\n",
      "  [0.37600027 0.88664314]\n",
      "  [0.23087077 0.25836046]\n",
      "  [0.57493867 0.22082032]]]\n",
      "(4, 4, 2)\n"
     ]
    }
   ],
   "source": [
    "a,b = np.dsplit(x,2)\n",
    "print(a)\n",
    "print(b)\n",
    "print(a.shape)"
   ]
  },
  {
   "cell_type": "code",
   "execution_count": 238,
   "metadata": {},
   "outputs": [
    {
     "name": "stdout",
     "output_type": "stream",
     "text": [
      "[[ 0  1  2  3]\n",
      " [ 4  5  6  7]\n",
      " [ 8  9 10 11]\n",
      " [12 13 14 15]]\n"
     ]
    }
   ],
   "source": [
    "x = np.arange(16).reshape(4,4)\n",
    "print(x)"
   ]
  },
  {
   "cell_type": "code",
   "execution_count": 240,
   "metadata": {},
   "outputs": [
    {
     "name": "stdout",
     "output_type": "stream",
     "text": [
      "[[12 13 14 15]\n",
      " [ 8  9 10 11]\n",
      " [ 4  5  6  7]\n",
      " [ 0  1  2  3]]\n"
     ]
    }
   ],
   "source": [
    "y = np.flip(x,axis=0)\n",
    "print(y)"
   ]
  },
  {
   "cell_type": "code",
   "execution_count": 242,
   "metadata": {},
   "outputs": [
    {
     "name": "stdout",
     "output_type": "stream",
     "text": [
      "[[ 3  2  1  0]\n",
      " [ 7  6  5  4]\n",
      " [11 10  9  8]\n",
      " [15 14 13 12]]\n"
     ]
    }
   ],
   "source": [
    "y = np.flip(x,axis=1)\n",
    "print(y)"
   ]
  },
  {
   "cell_type": "code",
   "execution_count": 244,
   "metadata": {},
   "outputs": [
    {
     "name": "stdout",
     "output_type": "stream",
     "text": [
      "[[ 3  2  1  0]\n",
      " [ 7  6  5  4]\n",
      " [11 10  9  8]\n",
      " [15 14 13 12]]\n"
     ]
    }
   ],
   "source": [
    "y = np.flip(x,axis=-1)\n",
    "print(y)"
   ]
  },
  {
   "cell_type": "code",
   "execution_count": 246,
   "metadata": {},
   "outputs": [
    {
     "name": "stdout",
     "output_type": "stream",
     "text": [
      "[[ 3  2  1  0]\n",
      " [ 7  6  5  4]\n",
      " [11 10  9  8]\n",
      " [15 14 13 12]]\n"
     ]
    }
   ],
   "source": [
    "y = np.fliplr(x)\n",
    "print(y)"
   ]
  },
  {
   "cell_type": "code",
   "execution_count": 249,
   "metadata": {},
   "outputs": [
    {
     "name": "stdout",
     "output_type": "stream",
     "text": [
      "[[12 13 14 15]\n",
      " [ 8  9 10 11]\n",
      " [ 4  5  6  7]\n",
      " [ 0  1  2  3]]\n"
     ]
    }
   ],
   "source": [
    "y = np.flipud(x)\n",
    "print(y)"
   ]
  },
  {
   "cell_type": "code",
   "execution_count": 251,
   "metadata": {},
   "outputs": [
    {
     "name": "stdout",
     "output_type": "stream",
     "text": [
      "[[ 8  9 10 11]\n",
      " [12 13 14 15]\n",
      " [ 0  1  2  3]\n",
      " [ 4  5  6  7]]\n"
     ]
    }
   ],
   "source": [
    "y = np.roll(x,8)\n",
    "print(y)"
   ]
  },
  {
   "cell_type": "code",
   "execution_count": 258,
   "metadata": {},
   "outputs": [
    {
     "name": "stdout",
     "output_type": "stream",
     "text": [
      "[[ 0  1  2  3]\n",
      " [ 4  5  6  7]\n",
      " [ 8  9 10 11]\n",
      " [12 13 14 15]]\n",
      "[[ 3  7 11 15]\n",
      " [ 2  6 10 14]\n",
      " [ 1  5  9 13]\n",
      " [ 0  4  8 12]]\n"
     ]
    }
   ],
   "source": [
    "y = np.rot90(x)\n",
    "print(x)\n",
    "print(y)"
   ]
  },
  {
   "cell_type": "markdown",
   "metadata": {},
   "source": [
    "# Bitwise Operations on Array"
   ]
  },
  {
   "cell_type": "code",
   "execution_count": 260,
   "metadata": {},
   "outputs": [
    {
     "name": "stdout",
     "output_type": "stream",
     "text": [
      "[0 0 0 1]\n",
      "[0 1 1 1]\n",
      "[0 1 1 0]\n",
      "[255 254 255 254]\n"
     ]
    }
   ],
   "source": [
    "x = np.array([0,1,0,1],np.uint8)\n",
    "y = np.array([0,0,1,1],np.uint8)\n",
    "\n",
    "print(np.bitwise_and(x,y))\n",
    "print(np.bitwise_or(x,y))\n",
    "print(np.bitwise_xor(x,y))\n",
    "print(np.bitwise_not(x))"
   ]
  },
  {
   "cell_type": "markdown",
   "metadata": {},
   "source": [
    "# Statistical Functions"
   ]
  },
  {
   "cell_type": "code",
   "execution_count": 261,
   "metadata": {},
   "outputs": [],
   "source": [
    "x = np.random.randint(low=0,high=9,size=10)"
   ]
  },
  {
   "cell_type": "code",
   "execution_count": 263,
   "metadata": {},
   "outputs": [
    {
     "name": "stdout",
     "output_type": "stream",
     "text": [
      "3.5\n",
      "3.4\n",
      "3.4\n",
      "2.2449944320643644\n",
      "5.039999999999998\n",
      "(array([1, 2, 0, 2, 0, 2, 2, 0, 0, 1]), array([0. , 0.8, 1.6, 2.4, 3.2, 4. , 4.8, 5.6, 6.4, 7.2, 8. ]))\n"
     ]
    }
   ],
   "source": [
    "print(np.median(x))\n",
    "print(np.mean(x))\n",
    "print(np.average(x))\n",
    "print(np.std(x))\n",
    "print(np.var(x))\n",
    "print(np.histogram(x))"
   ]
  }
 ],
 "metadata": {
  "kernelspec": {
   "display_name": "Python 3",
   "language": "python",
   "name": "python3"
  },
  "language_info": {
   "codemirror_mode": {
    "name": "ipython",
    "version": 3
   },
   "file_extension": ".py",
   "mimetype": "text/x-python",
   "name": "python",
   "nbconvert_exporter": "python",
   "pygments_lexer": "ipython3",
   "version": "3.6.7"
  }
 },
 "nbformat": 4,
 "nbformat_minor": 2
}
